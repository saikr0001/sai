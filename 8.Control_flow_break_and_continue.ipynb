{
  "nbformat": 4,
  "nbformat_minor": 0,
  "metadata": {
    "colab": {
      "name": "8. Control flow break and continue",
      "provenance": [],
      "authorship_tag": "ABX9TyMp0fVr2WnRuHMMPhcmlp1f",
      "include_colab_link": true
    },
    "kernelspec": {
      "name": "python3",
      "display_name": "Python 3"
    }
  },
  "cells": [
    {
      "cell_type": "markdown",
      "metadata": {
        "id": "view-in-github",
        "colab_type": "text"
      },
      "source": [
        "<a href=\"https://colab.research.google.com/github/saikr0001/sai/blob/master/8.Control_flow_break_and_continue.ipynb\" target=\"_parent\"><img src=\"https://colab.research.google.com/assets/colab-badge.svg\" alt=\"Open In Colab\"/></a>"
      ]
    },
    {
      "cell_type": "code",
      "metadata": {
        "id": "Lsgvs3I67MRf"
      },
      "source": [
        ""
      ],
      "execution_count": null,
      "outputs": []
    },
    {
      "cell_type": "code",
      "metadata": {
        "colab": {
          "base_uri": "https://localhost:8080/",
          "height": 52
        },
        "id": "8p5iYpwy6kdw",
        "outputId": "bada3062-ec3c-4737-928f-05d4610cc882"
      },
      "source": [
        "# python break and continue statements\r\n",
        "''' In python , break and continue statements can alter the flow of a normal loop\r\n",
        "\r\n",
        "Loops iterate over a block of code until test expression is false, but sometimes we wish to terminate the current iteration or even the whole loop without checking test expression.\r\n",
        "\r\n",
        "The break and continue statements are used in these cases'''\r\n"
      ],
      "execution_count": 2,
      "outputs": [
        {
          "output_type": "execute_result",
          "data": {
            "application/vnd.google.colaboratory.intrinsic+json": {
              "type": "string"
            },
            "text/plain": [
              "' In python , break and continue statements can alter the flow of a normal loop\\n\\nLoops iterate over a block of code until test expression is false, but sometimes we wish to terminate the current iteration or even the whole loop without checking test expression.\\n\\nThe break and continue statements are used in these cases'"
            ]
          },
          "metadata": {
            "tags": []
          },
          "execution_count": 2
        }
      ]
    },
    {
      "cell_type": "code",
      "metadata": {
        "colab": {
          "base_uri": "https://localhost:8080/"
        },
        "id": "-iu4yBDr7QTn",
        "outputId": "27959763-beef-4627-dcf4-ea992ea89983"
      },
      "source": [
        "# Example\r\n",
        "\r\n",
        "numbers =[ 1, 2, 3,4]\r\n",
        "for num in numbers:      #iterating over list\r\n",
        "    if num == 4:\r\n",
        "        break\r\n",
        "    print(num)\r\n",
        "else:\r\n",
        "    print(\"in the else-block\")\r\n",
        "print(\"Outside of for loop\")"
      ],
      "execution_count": 5,
      "outputs": [
        {
          "output_type": "stream",
          "text": [
            "1\n",
            "2\n",
            "3\n",
            "Outside of for loop\n"
          ],
          "name": "stdout"
        }
      ]
    },
    {
      "cell_type": "code",
      "metadata": {
        "colab": {
          "base_uri": "https://localhost:8080/"
        },
        "id": "ecYn0Spg8FNG",
        "outputId": "56977d07-ad80-47d3-ab4e-ef49ab6b4811"
      },
      "source": [
        "# Python program to check given number is Prime number or not (using break)\r\n",
        "\r\n",
        "num = int(input(\"Enter a  number\"))  # convert string to int\r\n",
        "\r\n",
        "isDivisible =False;\r\n",
        "\r\n",
        "i=2;\r\n",
        "while i< num:\r\n",
        "    if num % i == 0:\r\n",
        "      isDivisible = True;\r\n",
        "      print(\"{} is divisible by {}\" .format(num, i))\r\n",
        "      break; # this  line is the only addition \r\n",
        "    i += 1;\r\n",
        "if isDivisible:\r\n",
        "    print(\"{} is NOT a prime number \" .format(num))\r\n",
        "else:\r\n",
        "    print(\"{} is prime number\" .format(num))"
      ],
      "execution_count": 6,
      "outputs": [
        {
          "output_type": "stream",
          "text": [
            "Enter a  number11\n",
            "11 is prime number\n"
          ],
          "name": "stdout"
        }
      ]
    },
    {
      "cell_type": "code",
      "metadata": {
        "colab": {
          "base_uri": "https://localhost:8080/",
          "height": 35
        },
        "id": "mExCKZ5S9sof",
        "outputId": "9342b13e-a2df-40d6-b280-09c415f1579d"
      },
      "source": [
        "# PYTHON continue statement\r\n",
        "'''\r\n",
        "Syntax \r\n",
        "\r\n",
        "    continue  '''\r\n",
        "\r\n",
        "# continue will not execute anything after the keyword \"continue\" . Directly take you to next iteration loop\r\n",
        "# Simply telling that .... continue running the loop without running anything  which is below me "
      ],
      "execution_count": 8,
      "outputs": [
        {
          "output_type": "execute_result",
          "data": {
            "application/vnd.google.colaboratory.intrinsic+json": {
              "type": "string"
            },
            "text/plain": [
              "'\\nSyntax \\n\\n    continue  '"
            ]
          },
          "metadata": {
            "tags": []
          },
          "execution_count": 8
        }
      ]
    },
    {
      "cell_type": "code",
      "metadata": {
        "colab": {
          "base_uri": "https://localhost:8080/"
        },
        "id": "5vXCM8T3-F70",
        "outputId": "319ee7db-aef6-49f9-b969-cc86520d0444"
      },
      "source": [
        "# Example\r\n",
        "# print odd numbers present in a list\r\n",
        "\r\n",
        "numbers =[ 1, 2, 3, 4, 5]\r\n",
        "\r\n",
        "for num in numbers:\r\n",
        "    if num % 2 ==0:    # number 2 is not printing because of \" continue \" statement\r\n",
        "        continue\r\n",
        "    print(num)\r\n",
        "else:\r\n",
        "    print(\"else- block\")"
      ],
      "execution_count": 10,
      "outputs": [
        {
          "output_type": "stream",
          "text": [
            "1\n",
            "3\n",
            "5\n",
            "else- block\n"
          ],
          "name": "stdout"
        }
      ]
    },
    {
      "cell_type": "code",
      "metadata": {
        "id": "BoZP-c4-_Iop"
      },
      "source": [
        ""
      ],
      "execution_count": 10,
      "outputs": []
    }
  ]
}