{
  "nbformat": 4,
  "nbformat_minor": 0,
  "metadata": {
    "colab": {
      "name": "6. Control flow while loop",
      "provenance": [],
      "authorship_tag": "ABX9TyOE5K2mVUBEMYrgeiscfBE4",
      "include_colab_link": true
    },
    "kernelspec": {
      "name": "python3",
      "display_name": "Python 3"
    }
  },
  "cells": [
    {
      "cell_type": "markdown",
      "metadata": {
        "id": "view-in-github",
        "colab_type": "text"
      },
      "source": [
        "<a href=\"https://colab.research.google.com/github/saikr0001/sai/blob/master/6.Control_flow_while_loop.ipynb\" target=\"_parent\"><img src=\"https://colab.research.google.com/assets/colab-badge.svg\" alt=\"Open In Colab\"/></a>"
      ]
    },
    {
      "cell_type": "code",
      "metadata": {
        "colab": {
          "base_uri": "https://localhost:8080/"
        },
        "id": "Gpd_9VoYhOYs",
        "outputId": "ac9037dd-5b9d-4940-d106-3ed9f6de8d17"
      },
      "source": [
        "# python while loop\n",
        "# The while loop in python is used to iterate over a block of code as long as the test expression (condition ) is true\n",
        "\n",
        "# Find product of all numbers present in a list\n",
        "lst=[10,20,30,40,50]\n",
        "product =1\n",
        "index=0\n",
        "\n",
        "while index<len(lst):\n",
        "      product*= lst[index]\n",
        "      index+=1\n",
        "print(\"product is {}\" .format(product))"
      ],
      "execution_count": 2,
      "outputs": [
        {
          "output_type": "stream",
          "text": [
            "product is 12000000\n"
          ],
          "name": "stdout"
        }
      ]
    },
    {
      "cell_type": "code",
      "metadata": {
        "colab": {
          "base_uri": "https://localhost:8080/"
        },
        "id": "O_7ZcgNBloY5",
        "outputId": "9c01e840-a66f-48e7-bb1d-e0e7eda9a7f6"
      },
      "source": [
        "# Python program to check given number is prime number or not\n",
        "\n",
        "num= int(input(\"Enter a number:\"))    # convert string to int\n",
        "\n",
        "isDivisible =False; \n",
        "\n",
        "i=2;\n",
        "while i< num:\n",
        "    if num %i ==0:\n",
        "         isDivisible=True;\n",
        "         print(\"{} is divisible by {}\" .format(num,i))\n",
        "    i+=1;\n",
        "if isDivisible:\n",
        "    print(\"{} is NOT a prime number\" .format(num))\n",
        "else:\n",
        "    print(\"{} is a Prime number\" .format(num))"
      ],
      "execution_count": 4,
      "outputs": [
        {
          "output_type": "stream",
          "text": [
            "Enter a number:16\n",
            "16 is divisible by 2\n",
            "16 is divisible by 4\n",
            "16 is divisible by 8\n",
            "16 is NOT a prime number\n"
          ],
          "name": "stdout"
        }
      ]
    },
    {
      "cell_type": "code",
      "metadata": {
        "id": "DvUbGb6_w-fc"
      },
      "source": [
        ""
      ],
      "execution_count": null,
      "outputs": []
    }
  ]
}