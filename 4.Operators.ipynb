{
  "nbformat": 4,
  "nbformat_minor": 0,
  "metadata": {
    "colab": {
      "name": "4.Operators",
      "provenance": [],
      "collapsed_sections": [],
      "authorship_tag": "ABX9TyNIfiOev5nwVpYds82CJvR0",
      "include_colab_link": true
    },
    "kernelspec": {
      "name": "python3",
      "display_name": "Python 3"
    }
  },
  "cells": [
    {
      "cell_type": "markdown",
      "metadata": {
        "id": "view-in-github",
        "colab_type": "text"
      },
      "source": [
        "<a href=\"https://colab.research.google.com/github/saikr0001/sai/blob/master/4.Operators.ipynb\" target=\"_parent\"><img src=\"https://colab.research.google.com/assets/colab-badge.svg\" alt=\"Open In Colab\"/></a>"
      ]
    },
    {
      "cell_type": "code",
      "metadata": {
        "colab": {
          "base_uri": "https://localhost:8080/"
        },
        "id": "Zm9z_j5LSZKk",
        "outputId": "e511f0b0-4a8b-4afa-bbeb-53c958591880"
      },
      "source": [
        "x,y =10,20\n",
        "print(x+y)\n",
        "#substraction (-)\n",
        "#multiplication (*)\n",
        "#division (/)\n",
        "#modulo division(%)  ....remainder\n",
        "#Floor division (//)\n",
        "#Exponent (**)\n"
      ],
      "execution_count": null,
      "outputs": [
        {
          "output_type": "stream",
          "text": [
            "30\n"
          ],
          "name": "stdout"
        }
      ]
    },
    {
      "cell_type": "code",
      "metadata": {
        "colab": {
          "base_uri": "https://localhost:8080/"
        },
        "id": "kaLuIDv_TJWv",
        "outputId": "f2fd7f0c-0c45-4335-a8e7-dd35ff70c56c"
      },
      "source": [
        "print(-15//2)\n",
        "print(15//2)\n",
        "print(15%2)"
      ],
      "execution_count": null,
      "outputs": [
        {
          "output_type": "stream",
          "text": [
            "-8\n",
            "7\n",
            "1\n"
          ],
          "name": "stdout"
        }
      ]
    },
    {
      "cell_type": "code",
      "metadata": {
        "colab": {
          "base_uri": "https://localhost:8080/"
        },
        "id": "6q4rYgIiTv1A",
        "outputId": "7ec4cb2c-b5c5-4c50-a9f6-1bbf81845b93"
      },
      "source": [
        "print(2**4)"
      ],
      "execution_count": null,
      "outputs": [
        {
          "output_type": "stream",
          "text": [
            "16\n"
          ],
          "name": "stdout"
        }
      ]
    },
    {
      "cell_type": "code",
      "metadata": {
        "colab": {
          "base_uri": "https://localhost:8080/"
        },
        "id": "0JX-R8qTTylR",
        "outputId": "61bedc6a-4c49-4bd5-9219-c249844a374e"
      },
      "source": [
        "# COMPARISION OPERATORS\n",
        "a,b= 10,20\n",
        "print(a<b)  # check a is less than b\n",
        "# check a is greater than b\n",
        "# check a is equal to b\n",
        "# check a is not equal to b (!=)\n",
        "#check a greater than or equal to b\n",
        "# check a less than or equal to b\n"
      ],
      "execution_count": null,
      "outputs": [
        {
          "output_type": "stream",
          "text": [
            "True\n"
          ],
          "name": "stdout"
        }
      ]
    },
    {
      "cell_type": "code",
      "metadata": {
        "colab": {
          "base_uri": "https://localhost:8080/"
        },
        "id": "cVD-d3tKUTqg",
        "outputId": "44265ccf-0090-413a-8fb1-84215f121cd4"
      },
      "source": [
        "#LOGICAL OPERATORS  ...logical and, or , not operators\n",
        "a,b = True , False\n",
        "print(a and b) \n"
      ],
      "execution_count": null,
      "outputs": [
        {
          "output_type": "stream",
          "text": [
            "False\n"
          ],
          "name": "stdout"
        }
      ]
    },
    {
      "cell_type": "code",
      "metadata": {
        "colab": {
          "base_uri": "https://localhost:8080/"
        },
        "id": "5pvAwAIuUy8Q",
        "outputId": "30af28b9-56cc-4156-9e98-374e8b869f22"
      },
      "source": [
        "#Bitwise operators ...&, |, ~, ^, >>, <<  ....operates bit by bit \n",
        "\n",
        "a, b= 10, 4\n",
        "print( a & b)"
      ],
      "execution_count": null,
      "outputs": [
        {
          "output_type": "stream",
          "text": [
            "0\n"
          ],
          "name": "stdout"
        }
      ]
    },
    {
      "cell_type": "code",
      "metadata": {
        "id": "6YgOKDLPU0qo",
        "colab": {
          "base_uri": "https://localhost:8080/"
        },
        "outputId": "8c1636a2-359b-4ffb-c2ea-0602ec859241"
      },
      "source": [
        "a=10\n",
        "a+=10   #a=a+10   add AND equal to \n",
        "print(a)\n",
        "\n",
        "#subtract AND  (-=)\n",
        "#Multiply AND (*=)\n",
        "#Divide AND (/=)\n",
        "#Floor division (//=)\n",
        "#Exponent AND (**=)"
      ],
      "execution_count": 2,
      "outputs": [
        {
          "output_type": "stream",
          "text": [
            "20\n"
          ],
          "name": "stdout"
        }
      ]
    },
    {
      "cell_type": "code",
      "metadata": {
        "id": "JR081gPnFYtD",
        "colab": {
          "base_uri": "https://localhost:8080/"
        },
        "outputId": "85680a90-3ad1-4fa7-c96d-6a59c7bccde4"
      },
      "source": [
        "#SPECIAL OPERATORS\n",
        "#IDENTITY OPERATORS\n",
        "# is and is not are the identity operations in python\n",
        "#They are used to check if two values (or variables ) are located in the same part of the memory \n",
        "a=5;b=5\n",
        "print(a is b)   # 5 is  object created once  both a and b points to same object ......only it is true for variables, strings  like this but not for complex data structures like lists etc.\n",
        "print( a is not b)"
      ],
      "execution_count": 4,
      "outputs": [
        {
          "output_type": "stream",
          "text": [
            "True\n",
            "False\n"
          ],
          "name": "stdout"
        }
      ]
    },
    {
      "cell_type": "code",
      "metadata": {
        "colab": {
          "base_uri": "https://localhost:8080/"
        },
        "id": "cSlxSkA8Hllm",
        "outputId": "fea37d79-7607-41dd-feb6-2ac870402989"
      },
      "source": [
        "l1=[1,2,3]\n",
        "l2=[1,2,3]\n",
        "print(l1 is l2)"
      ],
      "execution_count": 5,
      "outputs": [
        {
          "output_type": "stream",
          "text": [
            "False\n"
          ],
          "name": "stdout"
        }
      ]
    },
    {
      "cell_type": "code",
      "metadata": {
        "colab": {
          "base_uri": "https://localhost:8080/"
        },
        "id": "AMRTZu7CIJd-",
        "outputId": "01ed80ec-8b13-4cbe-b78d-0d5402a8b982"
      },
      "source": [
        "s1=\"HI\"     # strings , variables  ...same object memory is located to different strings/variables\n",
        "s2=\"HI\"\n",
        "print(s1 is s2)"
      ],
      "execution_count": 6,
      "outputs": [
        {
          "output_type": "stream",
          "text": [
            "True\n"
          ],
          "name": "stdout"
        }
      ]
    },
    {
      "cell_type": "code",
      "metadata": {
        "colab": {
          "base_uri": "https://localhost:8080/"
        },
        "id": "0pddrKAHIYRu",
        "outputId": "c2b2959e-c7f0-4d42-e3e4-51d0be0d7739"
      },
      "source": [
        "# MEMBERSHIP OPERATORS\n",
        "# in and  not in are the membership operators in python\n",
        "\"\"\" They are used to test whether a value or variable is found in a sequence (string , list , tuple , set  and dictionary )\"\"\"\n",
        "lst=[1,2,3,4]\n",
        "print(1 in lst)   # check 1 is present in a given list or not\n"
      ],
      "execution_count": 7,
      "outputs": [
        {
          "output_type": "stream",
          "text": [
            "True\n"
          ],
          "name": "stdout"
        }
      ]
    },
    {
      "cell_type": "code",
      "metadata": {
        "colab": {
          "base_uri": "https://localhost:8080/"
        },
        "id": "Q9GGsERkJJq_",
        "outputId": "e6c9afe6-72f6-47e4-ebbb-c924354f1ded"
      },
      "source": [
        "d ={1:\"a\", 2: \"b\"}   # this is a dictionary \n",
        "print( 1 in d )\n",
        "print( \"a\" in d)   # i can only check keys not values "
      ],
      "execution_count": 10,
      "outputs": [
        {
          "output_type": "stream",
          "text": [
            "True\n",
            "False\n"
          ],
          "name": "stdout"
        }
      ]
    },
    {
      "cell_type": "code",
      "metadata": {
        "id": "PwSpb4EqJWNd"
      },
      "source": [
        ""
      ],
      "execution_count": null,
      "outputs": []
    }
  ]
}