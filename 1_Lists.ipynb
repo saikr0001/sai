{
  "nbformat": 4,
  "nbformat_minor": 0,
  "metadata": {
    "colab": {
      "name": "1.Lists",
      "provenance": [],
      "authorship_tag": "ABX9TyPTHA+HNzV28thr8/XKPjSS",
      "include_colab_link": true
    },
    "kernelspec": {
      "name": "python3",
      "display_name": "Python 3"
    }
  },
  "cells": [
    {
      "cell_type": "markdown",
      "metadata": {
        "id": "view-in-github",
        "colab_type": "text"
      },
      "source": [
        "<a href=\"https://colab.research.google.com/github/saikr0001/sai/blob/master/1_Lists.ipynb\" target=\"_parent\"><img src=\"https://colab.research.google.com/assets/colab-badge.svg\" alt=\"Open In Colab\"/></a>"
      ]
    },
    {
      "cell_type": "code",
      "metadata": {
        "id": "QC9ngsp0C1Eg"
      },
      "source": [
        "# Data structure\r\n"
      ],
      "execution_count": null,
      "outputs": []
    },
    {
      "cell_type": "markdown",
      "metadata": {
        "id": "v-UBwkXuQuMm"
      },
      "source": [
        "A data structure is a collection of data elements( such as numbers or characters -- or even other data structures) that is structured in some way ,\r\n",
        "for example , by numbering the elements. The most basic data structure in python is the 'sequence' .\r\n",
        "\r\n",
        "--> List is one of the sequence Data structure \r\n",
        "--> Lists are collection of items (strings , integers or even other lists)\r\n",
        "--> lists are enclosed in[]\r\n",
        "--> Each item in the list has an assigned index value\r\n",
        "--> Each item in a list is seperated by comma\r\n",
        "--> Lists are mutable , which means they can be changed \r\n"
      ]
    },
    {
      "cell_type": "code",
      "metadata": {
        "colab": {
          "base_uri": "https://localhost:8080/"
        },
        "id": "XuXFlekGQ3sg",
        "outputId": "8fcdd110-f890-4f04-c393-33ee0d2137c3"
      },
      "source": [
        "# List creation\r\n",
        "emptyList =[]\r\n",
        "lst =['one', 'two', 'three','four']  # list of strings\r\n",
        "\r\n",
        "lst2= [1,2,3,4]  # list of integers\r\n",
        "\r\n",
        "lst3 = [[1,2], [3, 4]]  # list of lists\r\n",
        "\r\n",
        "lst4 = [1, 'ramu', 24, 1.24]   # list of different datatypes\r\n",
        "print(lst4)"
      ],
      "execution_count": 1,
      "outputs": [
        {
          "output_type": "stream",
          "text": [
            "[1, 'ramu', 24, 1.24]\n"
          ],
          "name": "stdout"
        }
      ]
    },
    {
      "cell_type": "code",
      "metadata": {
        "id": "2VfTc4KxSWWN"
      },
      "source": [
        ""
      ],
      "execution_count": null,
      "outputs": []
    }
  ]
}