{
  "nbformat": 4,
  "nbformat_minor": 0,
  "metadata": {
    "colab": {
      "name": "2.Variables and data types in python",
      "provenance": [],
      "collapsed_sections": [],
      "authorship_tag": "ABX9TyOryNSdzO/andrcbk3aB1SM",
      "include_colab_link": true
    },
    "kernelspec": {
      "name": "python3",
      "display_name": "Python 3"
    }
  },
  "cells": [
    {
      "cell_type": "markdown",
      "metadata": {
        "id": "view-in-github",
        "colab_type": "text"
      },
      "source": [
        "<a href=\"https://colab.research.google.com/github/saikr0001/sai/blob/master/2_Variables_and_data_types_in_python.ipynb\" target=\"_parent\"><img src=\"https://colab.research.google.com/assets/colab-badge.svg\" alt=\"Open In Colab\"/></a>"
      ]
    },
    {
      "cell_type": "code",
      "metadata": {
        "id": "aL469_aYnFb_"
      },
      "source": [
        "# we use the assignment operator to assign values to a variable \n",
        "\n",
        "a=10\n",
        "b=5.5\n",
        "c=\"ML\""
      ],
      "execution_count": null,
      "outputs": []
    },
    {
      "cell_type": "code",
      "metadata": {
        "id": "OyOz6Dato8CF"
      },
      "source": [
        "# Multiple assignments\n",
        "a,b,c=10,5.5, \"ML\""
      ],
      "execution_count": null,
      "outputs": []
    },
    {
      "cell_type": "code",
      "metadata": {
        "id": "8gDickMlpIcN"
      },
      "source": [
        "# Assign the same value to multiple variables at once \n",
        "a=b=c =\"AI\""
      ],
      "execution_count": null,
      "outputs": []
    },
    {
      "cell_type": "code",
      "metadata": {
        "colab": {
          "base_uri": "https://localhost:8080/"
        },
        "id": "qwOHs7gNpPzd",
        "outputId": "da9a64eb-f8e9-4e07-d73c-3ca7d4eb9b36"
      },
      "source": [
        "print(a)\n",
        "print(b)\n",
        "print(c)"
      ],
      "execution_count": null,
      "outputs": [
        {
          "output_type": "stream",
          "text": [
            "AI\n",
            "AI\n",
            "AI\n"
          ],
          "name": "stdout"
        }
      ]
    },
    {
      "cell_type": "code",
      "metadata": {
        "colab": {
          "base_uri": "https://localhost:8080/"
        },
        "id": "b23hUyyjpTxe",
        "outputId": "d5241990-83c4-4a60-bf31-350dc4440d27"
      },
      "source": [
        "# STORAGE LOCATIONS\n",
        "x=3\n",
        "print(id(x))    # print address of variable X\n"
      ],
      "execution_count": null,
      "outputs": [
        {
          "output_type": "stream",
          "text": [
            "10914560\n"
          ],
          "name": "stdout"
        }
      ]
    },
    {
      "cell_type": "code",
      "metadata": {
        "colab": {
          "base_uri": "https://localhost:8080/"
        },
        "id": "3akE0NaRppQV",
        "outputId": "a56de2ab-7361-4da8-b441-888ea45433f7"
      },
      "source": [
        "y=3\n",
        "print(id(y))    # observe both x and y pointing to 3 "
      ],
      "execution_count": null,
      "outputs": [
        {
          "output_type": "stream",
          "text": [
            "10914560\n"
          ],
          "name": "stdout"
        }
      ]
    },
    {
      "cell_type": "code",
      "metadata": {
        "colab": {
          "base_uri": "https://localhost:8080/"
        },
        "id": "yJjR713juZlI",
        "outputId": "e3e6b58b-3292-429b-c644-9d4ac9f9a4d8"
      },
      "source": [
        "#DATA TYPES\n",
        "a=5;b=2.2;c=\"SAI\";d=\"i\";e =2+3j\n",
        "print(a,b,c,d,e, \"is of type\", type(a), type(b),type(c),type(d),type(e))"
      ],
      "execution_count": null,
      "outputs": [
        {
          "output_type": "stream",
          "text": [
            "5 2.2 SAI i (2+3j) is of type <class 'int'> <class 'float'> <class 'str'> <class 'str'> <class 'complex'>\n"
          ],
          "name": "stdout"
        }
      ]
    },
    {
      "cell_type": "code",
      "metadata": {
        "colab": {
          "base_uri": "https://localhost:8080/"
        },
        "id": "xdvxNAjlvEdm",
        "outputId": "043463e6-12c6-4550-c366-4462145bcf48"
      },
      "source": [
        "# isinstance is used to check the datatype\n",
        "\n",
        "print(isinstance(1+2j,complex))\n",
        "print(type(a))\n",
        "\n",
        "\n"
      ],
      "execution_count": null,
      "outputs": [
        {
          "output_type": "stream",
          "text": [
            "True\n",
            "<class 'int'>\n"
          ],
          "name": "stdout"
        }
      ]
    },
    {
      "cell_type": "code",
      "metadata": {
        "colab": {
          "base_uri": "https://localhost:8080/"
        },
        "id": "QXhIHKq617he",
        "outputId": "f1876d5c-5cad-4b46-c980-a2e58d9e5251"
      },
      "source": [
        "#BOOLEAN- Boolean represents the truth values False and TRUE\n",
        "a=True\n",
        "print(type(a))\n"
      ],
      "execution_count": null,
      "outputs": [
        {
          "output_type": "stream",
          "text": [
            "<class 'bool'>\n"
          ],
          "name": "stdout"
        }
      ]
    },
    {
      "cell_type": "code",
      "metadata": {
        "colab": {
          "base_uri": "https://localhost:8080/"
        },
        "id": "r9awHl-c3D0q",
        "outputId": "3fee33e9-ba05-40b8-84c4-f8d8e1c0803f"
      },
      "source": [
        "# PYTHON STRINGS\n",
        "#  we can use single quotes  or double quotes to represent strings\n",
        "\n",
        "s='This is GOOGLE COLABS'\n",
        "d=\"SAIKUMAR\"\n",
        "print(type(s))\n",
        "print(type(d))"
      ],
      "execution_count": null,
      "outputs": [
        {
          "output_type": "stream",
          "text": [
            "<class 'str'>\n",
            "<class 'str'>\n"
          ],
          "name": "stdout"
        }
      ]
    },
    {
      "cell_type": "code",
      "metadata": {
        "colab": {
          "base_uri": "https://localhost:8080/"
        },
        "id": "VAaoTXMN4Gnx",
        "outputId": "0ed05ef9-cfb0-4e5a-d901-eadb99a2a951"
      },
      "source": [
        "print(s[0]) \n",
        "print(s[-1])   #last char s[len(s)-1] or s[-1]\n",
        "print(s[len(s)-1])"
      ],
      "execution_count": null,
      "outputs": [
        {
          "output_type": "stream",
          "text": [
            "T\n",
            "S\n",
            "S\n"
          ],
          "name": "stdout"
        }
      ]
    },
    {
      "cell_type": "code",
      "metadata": {
        "colab": {
          "base_uri": "https://localhost:8080/",
          "height": 35
        },
        "id": "SjWt2RVd4xSJ",
        "outputId": "e0910a7b-3097-4732-e26e-d7e86fefbefa"
      },
      "source": [
        "#slicing\n",
        "s[5:]\n"
      ],
      "execution_count": null,
      "outputs": [
        {
          "output_type": "execute_result",
          "data": {
            "application/vnd.google.colaboratory.intrinsic+json": {
              "type": "string"
            },
            "text/plain": [
              "'is GOOGLE COLABS'"
            ]
          },
          "metadata": {
            "tags": []
          },
          "execution_count": 36
        }
      ]
    },
    {
      "cell_type": "code",
      "metadata": {
        "colab": {
          "base_uri": "https://localhost:8080/",
          "height": 35
        },
        "id": "JQTkaGks5ahA",
        "outputId": "6f91fc52-772e-47d2-9c25-d105d99c9299"
      },
      "source": [
        "d[2: 4] # 2th to 3th character"
      ],
      "execution_count": null,
      "outputs": [
        {
          "output_type": "execute_result",
          "data": {
            "application/vnd.google.colaboratory.intrinsic+json": {
              "type": "string"
            },
            "text/plain": [
              "'IK'"
            ]
          },
          "metadata": {
            "tags": []
          },
          "execution_count": 37
        }
      ]
    },
    {
      "cell_type": "code",
      "metadata": {
        "colab": {
          "base_uri": "https://localhost:8080/"
        },
        "id": "AxRtArDz62pZ",
        "outputId": "25fc2d05-756b-49aa-9740-b7131853d096"
      },
      "source": [
        "#PYTHON LIST\n",
        "\"\"\" List is an ordered sequence of items. All the items  in the list do not need to be of the same type\n",
        "Declaring a list is, items seperated by commas are enclosed within brackets[]\"\"\"\n",
        "\n",
        "a=[10,2.5, \"Hello\"]   #\n",
        "print(a[1])\n"
      ],
      "execution_count": null,
      "outputs": [
        {
          "output_type": "stream",
          "text": [
            "2.5\n"
          ],
          "name": "stdout"
        }
      ]
    },
    {
      "cell_type": "code",
      "metadata": {
        "colab": {
          "base_uri": "https://localhost:8080/"
        },
        "id": "A_i1NXQp8hvS",
        "outputId": "5cd3ffbb-5c04-47af-d7ad-410bbc6d4eb0"
      },
      "source": [
        "a[1]=30.5  # list elements are mutable - means changable \n",
        "print(a)"
      ],
      "execution_count": null,
      "outputs": [
        {
          "output_type": "stream",
          "text": [
            "[10, 30.5, 'Hello']\n"
          ],
          "name": "stdout"
        }
      ]
    },
    {
      "cell_type": "code",
      "metadata": {
        "id": "l7v-uPJ8833Y"
      },
      "source": [
        "#PYTHON TUPLE\n",
        "T= (1,1.5, \"ml\")   # TUPLE IS NOT mutable/CHANGABLE   ...Tuple object does not support item assignment....tuples u can think it as constants\n"
      ],
      "execution_count": null,
      "outputs": []
    },
    {
      "cell_type": "code",
      "metadata": {
        "colab": {
          "base_uri": "https://localhost:8080/"
        },
        "id": "ppFv4Aah9HQf",
        "outputId": "310df6b5-a987-4f58-f837-c38a752b265a"
      },
      "source": [
        "T[1]"
      ],
      "execution_count": null,
      "outputs": [
        {
          "output_type": "execute_result",
          "data": {
            "text/plain": [
              "1.5"
            ]
          },
          "metadata": {
            "tags": []
          },
          "execution_count": 41
        }
      ]
    },
    {
      "cell_type": "code",
      "metadata": {
        "colab": {
          "base_uri": "https://localhost:8080/"
        },
        "id": "cDv42Eqy9Ipv",
        "outputId": "2112da82-3d18-4338-c97d-61fb9b0c6fde"
      },
      "source": [
        "#PYTHON SET\n",
        "a={10,20, 50, 15}\n",
        "print(a)"
      ],
      "execution_count": null,
      "outputs": [
        {
          "output_type": "stream",
          "text": [
            "{10, 20, 50, 15}\n"
          ],
          "name": "stdout"
        }
      ]
    },
    {
      "cell_type": "code",
      "metadata": {
        "colab": {
          "base_uri": "https://localhost:8080/"
        },
        "id": "kMQUz4avUGeH",
        "outputId": "dc988907-e8dc-4b25-b3f6-b9689ad02dfb"
      },
      "source": [
        "print(type(a))"
      ],
      "execution_count": null,
      "outputs": [
        {
          "output_type": "stream",
          "text": [
            "<class 'set'>\n"
          ],
          "name": "stdout"
        }
      ]
    },
    {
      "cell_type": "code",
      "metadata": {
        "colab": {
          "base_uri": "https://localhost:8080/"
        },
        "id": "-YPB-ctTUJX6",
        "outputId": "ba117577-c2a2-408f-a90f-d178ef570726"
      },
      "source": [
        "b={10,10,20}  # automatically set wont consider duplicate elements\n",
        "print(b)"
      ],
      "execution_count": null,
      "outputs": [
        {
          "output_type": "stream",
          "text": [
            "{10, 20}\n"
          ],
          "name": "stdout"
        }
      ]
    },
    {
      "cell_type": "code",
      "metadata": {
        "colab": {
          "base_uri": "https://localhost:8080/",
          "height": 163
        },
        "id": "8D1vnRLtUVMr",
        "outputId": "12a69055-5121-4641-de1c-d30fef980c3e"
      },
      "source": [
        "print(b[1])    # set is unordered collection of items ...u cant access single item from set  ..you cant access particular element from set "
      ],
      "execution_count": null,
      "outputs": [
        {
          "output_type": "error",
          "ename": "TypeError",
          "evalue": "ignored",
          "traceback": [
            "\u001b[0;31m---------------------------------------------------------------------------\u001b[0m",
            "\u001b[0;31mTypeError\u001b[0m                                 Traceback (most recent call last)",
            "\u001b[0;32m<ipython-input-46-ec40d688a046>\u001b[0m in \u001b[0;36m<module>\u001b[0;34m()\u001b[0m\n\u001b[0;32m----> 1\u001b[0;31m \u001b[0mprint\u001b[0m\u001b[0;34m(\u001b[0m\u001b[0mb\u001b[0m\u001b[0;34m[\u001b[0m\u001b[0;36m1\u001b[0m\u001b[0;34m]\u001b[0m\u001b[0;34m)\u001b[0m    \u001b[0;31m# set is unordered collection of items ...u cant access single item from set\u001b[0m\u001b[0;34m\u001b[0m\u001b[0;34m\u001b[0m\u001b[0m\n\u001b[0m",
            "\u001b[0;31mTypeError\u001b[0m: 'set' object does not support indexing"
          ]
        }
      ]
    },
    {
      "cell_type": "code",
      "metadata": {
        "id": "RzverxOpUwTr",
        "colab": {
          "base_uri": "https://localhost:8080/"
        },
        "outputId": "2967dcf9-48e0-42a3-b56d-d17f9e242854"
      },
      "source": [
        "#DICTIONARY.... in the form of key:value ..key and value can be of any type \n",
        "\n",
        "d={'a':\"apple\", 'b':\"bat\"}\n",
        "print(d['a'])"
      ],
      "execution_count": 50,
      "outputs": [
        {
          "output_type": "stream",
          "text": [
            "apple\n"
          ],
          "name": "stdout"
        }
      ]
    },
    {
      "cell_type": "code",
      "metadata": {
        "id": "NZSpBLf_Vg5y",
        "colab": {
          "base_uri": "https://localhost:8080/"
        },
        "outputId": "22a5d189-0c2f-43a3-af63-5dcf0282a6f7"
      },
      "source": [
        "print(d)\n"
      ],
      "execution_count": 47,
      "outputs": [
        {
          "output_type": "stream",
          "text": [
            "SAIKUMAR\n"
          ],
          "name": "stdout"
        }
      ]
    },
    {
      "cell_type": "code",
      "metadata": {
        "colab": {
          "base_uri": "https://localhost:8080/"
        },
        "id": "vM6OMLjrqhww",
        "outputId": "4443f7ad-6304-4b06-d15d-0f55ff5bc75f"
      },
      "source": [
        "print(d['b'])"
      ],
      "execution_count": 51,
      "outputs": [
        {
          "output_type": "stream",
          "text": [
            "bat\n"
          ],
          "name": "stdout"
        }
      ]
    },
    {
      "cell_type": "code",
      "metadata": {
        "colab": {
          "base_uri": "https://localhost:8080/"
        },
        "id": "cCCKJx_Rqmce",
        "outputId": "6e892e92-e93e-4c37-bbe2-748297786600"
      },
      "source": [
        "# conversion between Data types\n",
        "float(5)"
      ],
      "execution_count": 52,
      "outputs": [
        {
          "output_type": "execute_result",
          "data": {
            "text/plain": [
              "5.0"
            ]
          },
          "metadata": {
            "tags": []
          },
          "execution_count": 52
        }
      ]
    },
    {
      "cell_type": "code",
      "metadata": {
        "colab": {
          "base_uri": "https://localhost:8080/"
        },
        "id": "J3zUdw3frCOF",
        "outputId": "307be779-4a53-4a4a-9a9e-9556d7d17372"
      },
      "source": [
        "int(100.5)"
      ],
      "execution_count": 53,
      "outputs": [
        {
          "output_type": "execute_result",
          "data": {
            "text/plain": [
              "100"
            ]
          },
          "metadata": {
            "tags": []
          },
          "execution_count": 53
        }
      ]
    },
    {
      "cell_type": "code",
      "metadata": {
        "colab": {
          "base_uri": "https://localhost:8080/",
          "height": 35
        },
        "id": "8wNhcMbQrEPd",
        "outputId": "7bd5ef83-5192-46d1-b803-b62422324df8"
      },
      "source": [
        "str(20)"
      ],
      "execution_count": 54,
      "outputs": [
        {
          "output_type": "execute_result",
          "data": {
            "application/vnd.google.colaboratory.intrinsic+json": {
              "type": "string"
            },
            "text/plain": [
              "'20'"
            ]
          },
          "metadata": {
            "tags": []
          },
          "execution_count": 54
        }
      ]
    },
    {
      "cell_type": "code",
      "metadata": {
        "colab": {
          "base_uri": "https://localhost:8080/"
        },
        "id": "JlghXVFXrGdm",
        "outputId": "e3703220-a3dd-4013-979d-30ffbcd5cf0c"
      },
      "source": [
        "type(int('10'))"
      ],
      "execution_count": 55,
      "outputs": [
        {
          "output_type": "execute_result",
          "data": {
            "text/plain": [
              "int"
            ]
          },
          "metadata": {
            "tags": []
          },
          "execution_count": 55
        }
      ]
    },
    {
      "cell_type": "code",
      "metadata": {
        "colab": {
          "base_uri": "https://localhost:8080/"
        },
        "id": "dD1XLUYmrzNU",
        "outputId": "ffa06148-d3f1-480c-97d8-3281c4371aed"
      },
      "source": [
        "type('10')"
      ],
      "execution_count": 56,
      "outputs": [
        {
          "output_type": "execute_result",
          "data": {
            "text/plain": [
              "str"
            ]
          },
          "metadata": {
            "tags": []
          },
          "execution_count": 56
        }
      ]
    },
    {
      "cell_type": "code",
      "metadata": {
        "colab": {
          "base_uri": "https://localhost:8080/"
        },
        "id": "bU3GJ7__r1_W",
        "outputId": "d5d8b549-8e84-44e9-c6c0-1a5c5cd44079"
      },
      "source": [
        "user =\"satish\"\n",
        "lines =100\n",
        "print(\"Congrats  \" + user + \"! you just wrote \"+str(lines)+\" lines of code\")\n"
      ],
      "execution_count": 59,
      "outputs": [
        {
          "output_type": "stream",
          "text": [
            "Congrats  satish! you just wrote 100 lines of code\n"
          ],
          "name": "stdout"
        }
      ]
    },
    {
      "cell_type": "code",
      "metadata": {
        "colab": {
          "base_uri": "https://localhost:8080/"
        },
        "id": "eKBpupIasYgt",
        "outputId": "c7f2074c-3e0e-4f70-f292-2e749469334b"
      },
      "source": [
        "a=[1,2,3]  \n",
        "print(type(a))   # type of a is list \n",
        "\n",
        "s=set(a)    # convert list to set using set() method \n",
        "\n",
        "print(type(s))\n"
      ],
      "execution_count": 60,
      "outputs": [
        {
          "output_type": "stream",
          "text": [
            "<class 'list'>\n",
            "<class 'set'>\n"
          ],
          "name": "stdout"
        }
      ]
    },
    {
      "cell_type": "code",
      "metadata": {
        "colab": {
          "base_uri": "https://localhost:8080/"
        },
        "id": "wQGA1ja2t__m",
        "outputId": "525f32a3-2f32-4d0c-ede9-8171bb9659f3"
      },
      "source": [
        "# convert string to list using list() method\n",
        "\n",
        "list('Hello')"
      ],
      "execution_count": 61,
      "outputs": [
        {
          "output_type": "execute_result",
          "data": {
            "text/plain": [
              "['H', 'e', 'l', 'l', 'o']"
            ]
          },
          "metadata": {
            "tags": []
          },
          "execution_count": 61
        }
      ]
    },
    {
      "cell_type": "code",
      "metadata": {
        "id": "az2Joui-DU_i"
      },
      "source": [
        ""
      ],
      "execution_count": null,
      "outputs": []
    }
  ]
}