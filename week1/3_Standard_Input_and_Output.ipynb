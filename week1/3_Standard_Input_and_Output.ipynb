{
  "nbformat": 4,
  "nbformat_minor": 0,
  "metadata": {
    "colab": {
      "name": "3. Standard Input and Output",
      "provenance": [],
      "authorship_tag": "ABX9TyPvsq8/FeHNhC6FpIapofAt",
      "include_colab_link": true
    },
    "kernelspec": {
      "name": "python3",
      "display_name": "Python 3"
    }
  },
  "cells": [
    {
      "cell_type": "markdown",
      "metadata": {
        "id": "view-in-github",
        "colab_type": "text"
      },
      "source": [
        "<a href=\"https://colab.research.google.com/github/saikr0001/sai/blob/master/3_Standard_Input_and_Output.ipynb\" target=\"_parent\"><img src=\"https://colab.research.google.com/assets/colab-badge.svg\" alt=\"Open In Colab\"/></a>"
      ]
    },
    {
      "cell_type": "code",
      "metadata": {
        "colab": {
          "base_uri": "https://localhost:8080/"
        },
        "id": "lFxDUXasFn_f",
        "outputId": "e377488e-091f-4881-89ac-43f8563c0e8e"
      },
      "source": [
        "print(\"Hello world\")"
      ],
      "execution_count": 1,
      "outputs": [
        {
          "output_type": "stream",
          "text": [
            "Hello world\n"
          ],
          "name": "stdout"
        }
      ]
    },
    {
      "cell_type": "code",
      "metadata": {
        "colab": {
          "base_uri": "https://localhost:8080/"
        },
        "id": "db2_PhyrGJ0W",
        "outputId": "8dc58ce0-e80b-431b-fde2-88ffba4558d5"
      },
      "source": [
        "a=10\n",
        "print(\"The value of a is \", a)   #python 3\n",
        "print(\"The value of a is \"+ str(a))   # concatinate two strings with +\n"
      ],
      "execution_count": 2,
      "outputs": [
        {
          "output_type": "stream",
          "text": [
            "The value of a is  10\n",
            "The value of a is 10\n"
          ],
          "name": "stdout"
        }
      ]
    },
    {
      "cell_type": "code",
      "metadata": {
        "colab": {
          "base_uri": "https://localhost:8080/"
        },
        "id": "woI-d4JVGah3",
        "outputId": "b84125cd-b2c7-4379-aa42-6bdaf2000d71"
      },
      "source": [
        "#OUTPUT FORMATTING\n",
        "\n",
        "a=10;b=20 # multiple statements in single line \n",
        "print(\"The value of a is {} and b {} \" .format(a,b))\n"
      ],
      "execution_count": 4,
      "outputs": [
        {
          "output_type": "stream",
          "text": [
            "The value of a is 10 and b 20 \n"
          ],
          "name": "stdout"
        }
      ]
    },
    {
      "cell_type": "code",
      "metadata": {
        "colab": {
          "base_uri": "https://localhost:8080/"
        },
        "id": "6LHolbH-Gl3m",
        "outputId": "550799e4-5f93-4ff5-f181-04f0465ee141"
      },
      "source": [
        "a=10;b=20 # multiple statements in single line \n",
        "print(\"The value of b is {1} and a is  {0} \" .format(a,b))\n"
      ],
      "execution_count": 5,
      "outputs": [
        {
          "output_type": "stream",
          "text": [
            "The value of b is 20 and a is  10 \n"
          ],
          "name": "stdout"
        }
      ]
    },
    {
      "cell_type": "code",
      "metadata": {
        "colab": {
          "base_uri": "https://localhost:8080/"
        },
        "id": "NTE9FD4IJrZA",
        "outputId": "4b4bcbad-1aee-4b80-a0f6-693986000e47"
      },
      "source": [
        "#we can use keyword arguments to format the string\n",
        "print(\"Hello {name},{greeting}\" .format(name =\"sai\" , greeting =\"Good Morning\"))\n"
      ],
      "execution_count": 7,
      "outputs": [
        {
          "output_type": "stream",
          "text": [
            "Hello sai,Good Morning\n"
          ],
          "name": "stdout"
        }
      ]
    },
    {
      "cell_type": "code",
      "metadata": {
        "colab": {
          "base_uri": "https://localhost:8080/"
        },
        "id": "Kdqw9uBANuBo",
        "outputId": "2bad69fa-8075-4ec7-c7e0-e27c00329275"
      },
      "source": [
        "# we can combine positional arguments with keyword arguments\n",
        "print('The story of {0}, {1}, and {other}' .format('Bill','Manfreed', other ='Georg'))"
      ],
      "execution_count": 8,
      "outputs": [
        {
          "output_type": "stream",
          "text": [
            "The story of Bill, Manfreed, and Georg\n"
          ],
          "name": "stdout"
        }
      ]
    },
    {
      "cell_type": "code",
      "metadata": {
        "colab": {
          "base_uri": "https://localhost:8080/"
        },
        "id": "TbHtIORyKKlw",
        "outputId": "ef5247c3-c4aa-4fd6-86d9-d743fe31fa5a"
      },
      "source": [
        "#PYTHON INPUT .. want to take input from the user  by using input() function \n",
        "num= input(\"Enter  a number\")\n",
        "print(num)"
      ],
      "execution_count": 9,
      "outputs": [
        {
          "output_type": "stream",
          "text": [
            "Enter  a number21\n",
            "21\n"
          ],
          "name": "stdout"
        }
      ]
    },
    {
      "cell_type": "code",
      "metadata": {
        "colab": {
          "base_uri": "https://localhost:8080/",
          "height": 35
        },
        "id": "Apn1VAflOqXg",
        "outputId": "d000d3ee-2eee-4096-fa20-aa51c9175ddd"
      },
      "source": [
        "num"
      ],
      "execution_count": 10,
      "outputs": [
        {
          "output_type": "execute_result",
          "data": {
            "application/vnd.google.colaboratory.intrinsic+json": {
              "type": "string"
            },
            "text/plain": [
              "'21'"
            ]
          },
          "metadata": {
            "tags": []
          },
          "execution_count": 10
        }
      ]
    },
    {
      "cell_type": "code",
      "metadata": {
        "id": "pNdWqt_2OtLw"
      },
      "source": [
        ""
      ],
      "execution_count": null,
      "outputs": []
    }
  ]
}
