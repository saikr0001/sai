{
  "nbformat": 4,
  "nbformat_minor": 0,
  "metadata": {
    "colab": {
      "name": "Control flow for loop",
      "provenance": [],
      "authorship_tag": "ABX9TyMgHbG9GIq19t5ic3IdfgCj",
      "include_colab_link": true
    },
    "kernelspec": {
      "name": "python3",
      "display_name": "Python 3"
    }
  },
  "cells": [
    {
      "cell_type": "markdown",
      "metadata": {
        "id": "view-in-github",
        "colab_type": "text"
      },
      "source": [
        "<a href=\"https://colab.research.google.com/github/saikr0001/sai/blob/master/7.%20Control_flow_for_loop.ipynb\" target=\"_parent\"><img src=\"https://colab.research.google.com/assets/colab-badge.svg\" alt=\"Open In Colab\"/></a>"
      ]
    },
    {
      "cell_type": "code",
      "metadata": {
        "colab": {
          "base_uri": "https://localhost:8080/"
        },
        "id": "7liilzTlXZyi",
        "outputId": "abf6bc0d-656c-4499-80e9-98ab8745a63a"
      },
      "source": [
        "# Python for Loop\r\n",
        "# It is used to iterate over a sequence( list, tuple, string) or other iterable objects. Iterating over a sequence is called Traversal\r\n",
        "\r\n",
        "# syntax:\r\n",
        "# for element in sequence:\r\n",
        "# Body of for \r\n",
        "\r\n",
        "'''Here , element is the variable that takes the value of the item inside the sequence in each iteration . Loop continues until we reach the last item in the sequence'''\r\n",
        "# Find  product of all numbers present in a list\r\n",
        "\r\n",
        "lst= [10, 20, 30, 40, 50 ]\r\n",
        "product =1\r\n",
        "#iterating over the list\r\n",
        "for ele in lst:\r\n",
        "  product *= ele\r\n",
        "print(\"Product is: {}\" .format(product))\r\n"
      ],
      "execution_count": 1,
      "outputs": [
        {
          "output_type": "stream",
          "text": [
            "Product is: 12000000\n"
          ],
          "name": "stdout"
        }
      ]
    },
    {
      "cell_type": "code",
      "metadata": {
        "colab": {
          "base_uri": "https://localhost:8080/"
        },
        "id": "bF7Hb-l9bLrC",
        "outputId": "4f1e5d64-b085-4c16-b980-797428955a0c"
      },
      "source": [
        "# range() fucntion \r\n",
        "''' we can generate a sequence of numbers using range() function. range(10) will generate numbers from 0 to 9 (10 numbers)\r\n",
        ". This function does not store all the values in memory, it would be inefficient. So, it remembers the start, stop , step size and generates the next number on the go'''\r\n",
        "#print range of 10\r\n",
        "for i in range(10):\r\n",
        "  print(i)\r\n"
      ],
      "execution_count": 2,
      "outputs": [
        {
          "output_type": "stream",
          "text": [
            "0\n",
            "1\n",
            "2\n",
            "3\n",
            "4\n",
            "5\n",
            "6\n",
            "7\n",
            "8\n",
            "9\n"
          ],
          "name": "stdout"
        }
      ]
    },
    {
      "cell_type": "code",
      "metadata": {
        "colab": {
          "base_uri": "https://localhost:8080/"
        },
        "id": "3w_irSCrcgAm",
        "outputId": "94bc4ff6-6288-419e-934c-55a4301ebf32"
      },
      "source": [
        "# print range of numbers from 1 to 20 with step size of 2\r\n",
        "for i in range(1, 20 ,2):   # start. stop and stepsize\r\n",
        "  print(i)"
      ],
      "execution_count": 3,
      "outputs": [
        {
          "output_type": "stream",
          "text": [
            "1\n",
            "3\n",
            "5\n",
            "7\n",
            "9\n",
            "11\n",
            "13\n",
            "15\n",
            "17\n",
            "19\n"
          ],
          "name": "stdout"
        }
      ]
    },
    {
      "cell_type": "code",
      "metadata": {
        "colab": {
          "base_uri": "https://localhost:8080/"
        },
        "id": "z_Q8cHIic-jF",
        "outputId": "1d44a52d-60ea-44a6-9458-64a34e2305ef"
      },
      "source": [
        "lst =[\"sai\", \"kumar\", \"balu\",\"ramu\"]\r\n",
        "#iterate over the list using index\r\n",
        "\r\n",
        "for index in range(len(lst)):\r\n",
        "  print(lst[index]) \r\n",
        "\r\n",
        "print('...................')\r\n",
        "  # another way of coding samething above \r\n",
        "for ele in lst:\r\n",
        "  print(ele)"
      ],
      "execution_count": 6,
      "outputs": [
        {
          "output_type": "stream",
          "text": [
            "sai\n",
            "kumar\n",
            "balu\n",
            "ramu\n",
            "...................\n",
            "sai\n",
            "kumar\n",
            "balu\n",
            "ramu\n"
          ],
          "name": "stdout"
        }
      ]
    },
    {
      "cell_type": "code",
      "metadata": {
        "colab": {
          "base_uri": "https://localhost:8080/"
        },
        "id": "f4tnb1evdqI2",
        "outputId": "66e2b623-716f-4412-96c3-0fe2def2995e"
      },
      "source": [
        "'''For loop with else'''\r\n",
        "\r\n",
        "''' A for loop can have an optional else block as well. The else part is executed if the items in the sequence used in for loop exhausts\r\n",
        ". break statement can be used to stop a for loop. In such case , the else part is ignored.\r\n",
        "Hence , a for loop's else part runs if no break occurs'''\r\n",
        "\r\n",
        "numbers =[1, 2,3]\r\n",
        "# iterating over the list\r\n",
        "for item in numbers:\r\n",
        "    print(item)\r\n",
        "else:\r\n",
        "    print(\"No more items in the list\")"
      ],
      "execution_count": 2,
      "outputs": [
        {
          "output_type": "stream",
          "text": [
            "1\n",
            "2\n",
            "3\n",
            "No more items in the list\n"
          ],
          "name": "stdout"
        }
      ]
    },
    {
      "cell_type": "code",
      "metadata": {
        "colab": {
          "base_uri": "https://localhost:8080/"
        },
        "id": "dSXBvF2jx8qM",
        "outputId": "e88dc9c8-5a53-444b-a170-87c8a4ad5089"
      },
      "source": [
        "for item in numbers:\r\n",
        "    print(item)\r\n",
        "    if item % 2 ==0:\r\n",
        "      break\r\n",
        "else:\r\n",
        "   print(\"no item left in the list\")"
      ],
      "execution_count": 3,
      "outputs": [
        {
          "output_type": "stream",
          "text": [
            "1\n",
            "2\n"
          ],
          "name": "stdout"
        }
      ]
    },
    {
      "cell_type": "code",
      "metadata": {
        "colab": {
          "base_uri": "https://localhost:8080/"
        },
        "id": "k3vRUsMozDCb",
        "outputId": "f95e867e-b75e-4011-cf36-d001abd52f62"
      },
      "source": [
        "# Python program to display all prime numbers within an interval\r\n",
        "\r\n",
        "index1 =10\r\n",
        "index2 =50\r\n",
        "print(\"Prime numbers between {0} and {1} are :\"  .format(index1, index2))\r\n",
        "\r\n",
        "for num in range(index1, index2+1):   # default step size is 1\r\n",
        "    if num > 1:\r\n",
        "        isDivisible =False;\r\n",
        "        for index in range(2, num):          # is num is prime or not logic\r\n",
        "              if num % index == 0:\r\n",
        "                  isDivisible =True;\r\n",
        "        if not isDivisible:\r\n",
        "            print(num);\r\n"
      ],
      "execution_count": 16,
      "outputs": [
        {
          "output_type": "stream",
          "text": [
            "Prime numbers between 10 and 50 are :\n",
            "11\n",
            "13\n",
            "17\n",
            "19\n",
            "23\n",
            "29\n",
            "31\n",
            "37\n",
            "41\n",
            "43\n",
            "47\n"
          ],
          "name": "stdout"
        }
      ]
    },
    {
      "cell_type": "code",
      "metadata": {
        "id": "YHmr1XWa1yl8"
      },
      "source": [
        ""
      ],
      "execution_count": null,
      "outputs": []
    }
  ]
}
