{
  "nbformat": 4,
  "nbformat_minor": 0,
  "metadata": {
    "colab": {
      "name": "5.Control flow if..else",
      "provenance": [],
      "authorship_tag": "ABX9TyP80aBEP/AJ1l2mkbxOLK84",
      "include_colab_link": true
    },
    "kernelspec": {
      "name": "python3",
      "display_name": "Python 3"
    }
  },
  "cells": [
    {
      "cell_type": "markdown",
      "metadata": {
        "id": "view-in-github",
        "colab_type": "text"
      },
      "source": [
        "<a href=\"https://colab.research.google.com/github/saikr0001/sai/blob/master/5.Control_flow_if_else.ipynb\" target=\"_parent\"><img src=\"https://colab.research.google.com/assets/colab-badge.svg\" alt=\"Open In Colab\"/></a>"
      ]
    },
    {
      "cell_type": "code",
      "metadata": {
        "colab": {
          "base_uri": "https://localhost:8080/"
        },
        "id": "eEgSiSARJ8fD",
        "outputId": "31bf883d-e61a-4911-b6f4-1fd759d8ffd2"
      },
      "source": [
        "#if ..else\n",
        "a =int(input(\"Enter a number\"))   \n",
        "print(type(a))\n",
        "\n",
        "if a>10:\n",
        "    print(\"NUmber is greater than 10\")\n",
        "print(\"number is less than or equal to 10\")\n",
        "\n",
        "if 0:                                               # Note 0 and None in python taken it as 'false'\n",
        "    print(\"NUmber is greater than 10\")\n",
        "print(\"number is less than or equal to 10\")\n",
        "\n",
        "if None:\n",
        "    print(\"NUmber is greater than 10\")\n",
        "else:\n",
        "    print(\"number is less than or equal to 10\")\n"
      ],
      "execution_count": 10,
      "outputs": [
        {
          "output_type": "stream",
          "text": [
            "Enter a number11\n",
            "<class 'int'>\n",
            "NUmber is greater than 10\n",
            "number is less than or equal to 10\n",
            "number is less than or equal to 10\n",
            "number is less than or equal to 10\n"
          ],
          "name": "stdout"
        }
      ]
    },
    {
      "cell_type": "code",
      "metadata": {
        "colab": {
          "base_uri": "https://localhost:8080/"
        },
        "id": "g6isFlzbKvOc",
        "outputId": "de328f0d-8a68-46a9-9925-dfade5f554bf"
      },
      "source": [
        "# if ...elif ....else statement\n",
        "a =float(input(\" Enter a number\"))\n",
        "print(a)\n",
        "\n",
        "if a>0:\n",
        "  print(\"positive number\")\n",
        "elif a ==0:\n",
        "  print(\"ZERO\")\n",
        "else:\n",
        "    print('Negative Number')"
      ],
      "execution_count": 13,
      "outputs": [
        {
          "output_type": "stream",
          "text": [
            " Enter a number0\n",
            "0.0\n",
            "ZERO\n"
          ],
          "name": "stdout"
        }
      ]
    },
    {
      "cell_type": "code",
      "metadata": {
        "id": "zV6B0XrcdDZ0"
      },
      "source": [
        ""
      ],
      "execution_count": null,
      "outputs": []
    }
  ]
}
