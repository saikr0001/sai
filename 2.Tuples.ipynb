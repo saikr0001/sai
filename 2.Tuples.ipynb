{
  "nbformat": 4,
  "nbformat_minor": 0,
  "metadata": {
    "colab": {
      "name": "2. Tuples",
      "provenance": [],
      "collapsed_sections": [],
      "authorship_tag": "ABX9TyOAW2YwrgZs3+nGsvmJSZ/a",
      "include_colab_link": true
    },
    "kernelspec": {
      "name": "python3",
      "display_name": "Python 3"
    }
  },
  "cells": [
    {
      "cell_type": "markdown",
      "metadata": {
        "id": "view-in-github",
        "colab_type": "text"
      },
      "source": [
        "<a href=\"https://colab.research.google.com/github/saikr0001/sai/blob/master/2.Tuples.ipynb\" target=\"_parent\"><img src=\"https://colab.research.google.com/assets/colab-badge.svg\" alt=\"Open In Colab\"/></a>"
      ]
    },
    {
      "cell_type": "code",
      "metadata": {
        "id": "47pk7C_Y4Ui0"
      },
      "source": [
        ""
      ],
      "execution_count": null,
      "outputs": []
    },
    {
      "cell_type": "markdown",
      "metadata": {
        "id": "Lht1Dfxm4faq"
      },
      "source": [
        "* TUPLE\r\n",
        "* A tuple is similar to list\r\n",
        "* The difference between the two is that we can't change the elements of tuple once it is assigned whereas in the list , elements can be changed.\r\n",
        "* Tuples are immutable( cannot change) but lists are  mutable ( chnage the elements)"
      ]
    },
    {
      "cell_type": "code",
      "metadata": {
        "colab": {
          "base_uri": "https://localhost:8080/"
        },
        "id": "_-8TZKTa45wI",
        "outputId": "5402cdf6-3426-4b0b-fa4e-9f6102735069"
      },
      "source": [
        "# TUPLE CREATION \r\n",
        "# empty tuple\r\n",
        "t=()  # we will use paranthesize  for creating tuples\r\n",
        "\r\n",
        "# tuple having integers\r\n",
        "t=(1, 2,3)\r\n",
        "print(t)\r\n",
        "\r\n",
        "# tuple with  mixed datatypes\r\n",
        "t=(1, 'raju', 28 ,'abc')\r\n",
        "print(t)\r\n",
        "\r\n",
        "#nested tuple\r\n",
        "t= (1, (2,3,4), [1, 'raju', 28, 'abc'])\r\n",
        "print(t)\r\n"
      ],
      "execution_count": 2,
      "outputs": [
        {
          "output_type": "stream",
          "text": [
            "(1, 2, 3)\n",
            "(1, 'raju', 28, 'abc')\n",
            "(1, (2, 3, 4), [1, 'raju', 28, 'abc'])\n"
          ],
          "name": "stdout"
        }
      ]
    },
    {
      "cell_type": "code",
      "metadata": {
        "colab": {
          "base_uri": "https://localhost:8080/"
        },
        "id": "-Z8tsqdt5xRD",
        "outputId": "a7f86f51-fcfc-4beb-dc5a-7104a73f916f"
      },
      "source": [
        "# only paranthesis is not enough \r\n",
        "t= ('satish')\r\n",
        "type(t)"
      ],
      "execution_count": 3,
      "outputs": [
        {
          "output_type": "execute_result",
          "data": {
            "text/plain": [
              "str"
            ]
          },
          "metadata": {
            "tags": []
          },
          "execution_count": 3
        }
      ]
    },
    {
      "cell_type": "markdown",
      "metadata": {
        "id": "20O8BGj47S5O"
      },
      "source": [
        "* Note: If u not put comma at the end , python will basically think it as a string , otherwise it becomes a tuple. \r\n",
        "* Note: if you have only one element , you need a comma -suppose if you have  2 or more than 2 , you no need comma to consider it as a tuple"
      ]
    },
    {
      "cell_type": "code",
      "metadata": {
        "colab": {
          "base_uri": "https://localhost:8080/"
        },
        "id": "STWx3W-O6Msg",
        "outputId": "8f884cfe-85f1-4070-f704-52e104d4830a"
      },
      "source": [
        "# need a comma at the end# if yo\r\n",
        "t = ('satish',)   \r\n",
        "type(t)"
      ],
      "execution_count": 10,
      "outputs": [
        {
          "output_type": "execute_result",
          "data": {
            "text/plain": [
              "tuple"
            ]
          },
          "metadata": {
            "tags": []
          },
          "execution_count": 10
        }
      ]
    },
    {
      "cell_type": "code",
      "metadata": {
        "colab": {
          "base_uri": "https://localhost:8080/"
        },
        "id": "Wd9TwZkY75Sv",
        "outputId": "07956013-af00-46d9-93f7-b96f2fe73403"
      },
      "source": [
        "# Accessing Elements in Tuple\r\n",
        "t= ('satish', 'murali', 'naveen', 'srinu', 'brahma')\r\n",
        "print(t[1])"
      ],
      "execution_count": 11,
      "outputs": [
        {
          "output_type": "stream",
          "text": [
            "murali\n"
          ],
          "name": "stdout"
        }
      ]
    },
    {
      "cell_type": "code",
      "metadata": {
        "colab": {
          "base_uri": "https://localhost:8080/"
        },
        "id": "BYmWinnY8HbM",
        "outputId": "aa08497b-747d-4f7b-9a20-00cd76ed23fe"
      },
      "source": [
        "# negative index\r\n",
        "print(t[-1])  # print last element in a tuple"
      ],
      "execution_count": 12,
      "outputs": [
        {
          "output_type": "stream",
          "text": [
            "brahma\n"
          ],
          "name": "stdout"
        }
      ]
    },
    {
      "cell_type": "code",
      "metadata": {
        "colab": {
          "base_uri": "https://localhost:8080/"
        },
        "id": "jp_1PM5m8PSM",
        "outputId": "df91f0ff-ddbb-42f8-e76c-cdb366284662"
      },
      "source": [
        "# nested tuple\r\n",
        "\r\n",
        "t= ('ABC', ('satish', 'naveen', 'srinu'))\r\n",
        "print(t[1])"
      ],
      "execution_count": 13,
      "outputs": [
        {
          "output_type": "stream",
          "text": [
            "('satish', 'naveen', 'srinu')\n"
          ],
          "name": "stdout"
        }
      ]
    },
    {
      "cell_type": "code",
      "metadata": {
        "colab": {
          "base_uri": "https://localhost:8080/"
        },
        "id": "rEUpFnQs8gJm",
        "outputId": "b65836b5-3cec-46e8-a77d-47dd8fd658c7"
      },
      "source": [
        "print(t[1][2])"
      ],
      "execution_count": 14,
      "outputs": [
        {
          "output_type": "stream",
          "text": [
            "srinu\n"
          ],
          "name": "stdout"
        }
      ]
    },
    {
      "cell_type": "code",
      "metadata": {
        "colab": {
          "base_uri": "https://localhost:8080/"
        },
        "id": "fUaSK3Vk8xaC",
        "outputId": "8a3eccfa-f3a5-4864-c3c5-f175ac768358"
      },
      "source": [
        "#slicing    # very similar to lists\r\n",
        "t= (1,2,3,4,5,6)\r\n",
        "\r\n",
        "print(t[1:4])\r\n",
        "# print elements from starting to 2nd last elements\r\n",
        "print(t[:-2])\r\n",
        "\r\n",
        "# print elements from starting to end \r\n",
        "print(t[:])"
      ],
      "execution_count": 17,
      "outputs": [
        {
          "output_type": "stream",
          "text": [
            "(2, 3, 4)\n",
            "(1, 2, 3, 4)\n",
            "(1, 2, 3, 4, 5, 6)\n"
          ],
          "name": "stdout"
        }
      ]
    },
    {
      "cell_type": "code",
      "metadata": {
        "id": "GsOLiTgI9Bjq"
      },
      "source": [
        ""
      ],
      "execution_count": null,
      "outputs": []
    },
    {
      "cell_type": "markdown",
      "metadata": {
        "id": "9TxI2iO89VXa"
      },
      "source": [
        "**Changing a Tuple**\r\n",
        "\r\n",
        "* Unlike lists , tuples are immutable\r\n",
        "* This means that elements of a tuple cannot be changed once it has been assigned. But, if the element is itself a mutable datatype like list, its nested items can be changed"
      ]
    },
    {
      "cell_type": "code",
      "metadata": {
        "colab": {
          "base_uri": "https://localhost:8080/",
          "height": 197
        },
        "id": "YccMdMPd9pxr",
        "outputId": "be079bc7-1dcb-41ff-cb38-421efc09df24"
      },
      "source": [
        "# creating tuple\r\n",
        "t =(1,2,3,4,[5, 6,7])\r\n",
        "t[2]='x'   # will get type error\r\n",
        "\r\n",
        "t[4] =[1,2,3,4]  # will get type error"
      ],
      "execution_count": 20,
      "outputs": [
        {
          "output_type": "error",
          "ename": "TypeError",
          "evalue": "ignored",
          "traceback": [
            "\u001b[0;31m---------------------------------------------------------------------------\u001b[0m",
            "\u001b[0;31mTypeError\u001b[0m                                 Traceback (most recent call last)",
            "\u001b[0;32m<ipython-input-20-76afe65f8d4d>\u001b[0m in \u001b[0;36m<module>\u001b[0;34m()\u001b[0m\n\u001b[1;32m      3\u001b[0m \u001b[0;31m#t[2]='x'   # will get type error\u001b[0m\u001b[0;34m\u001b[0m\u001b[0;34m\u001b[0m\u001b[0;34m\u001b[0m\u001b[0m\n\u001b[1;32m      4\u001b[0m \u001b[0;34m\u001b[0m\u001b[0m\n\u001b[0;32m----> 5\u001b[0;31m \u001b[0mt\u001b[0m\u001b[0;34m[\u001b[0m\u001b[0;36m4\u001b[0m\u001b[0;34m]\u001b[0m \u001b[0;34m=\u001b[0m\u001b[0;34m[\u001b[0m\u001b[0;36m1\u001b[0m\u001b[0;34m,\u001b[0m\u001b[0;36m2\u001b[0m\u001b[0;34m,\u001b[0m\u001b[0;36m3\u001b[0m\u001b[0;34m,\u001b[0m\u001b[0;36m4\u001b[0m\u001b[0;34m]\u001b[0m\u001b[0;34m\u001b[0m\u001b[0;34m\u001b[0m\u001b[0m\n\u001b[0m",
            "\u001b[0;31mTypeError\u001b[0m: 'tuple' object does not support item assignment"
          ]
        }
      ]
    },
    {
      "cell_type": "markdown",
      "metadata": {
        "id": "nexSHC6i-Saw"
      },
      "source": [
        "**NOTE**\r\n",
        "* Small twist in above example, instead of modifying a tuple in above example , if i modify a list elements inside that , python will allow us to do that because list is mutable -- conclusion: An element inside a tuple is mutable , means in the above example, you cant modify entire that list i.e t[4] element in that tuple"
      ]
    },
    {
      "cell_type": "code",
      "metadata": {
        "colab": {
          "base_uri": "https://localhost:8080/"
        },
        "id": "ZWPsAcxr_VKo",
        "outputId": "8c862fb4-32b1-4497-fa3d-f5c3a323a7a5"
      },
      "source": [
        "t[4][1] ='satish'\r\n",
        "print(t)"
      ],
      "execution_count": 21,
      "outputs": [
        {
          "output_type": "stream",
          "text": [
            "(1, 2, 3, 4, [5, 'satish', 7])\n"
          ],
          "name": "stdout"
        }
      ]
    },
    {
      "cell_type": "code",
      "metadata": {
        "colab": {
          "base_uri": "https://localhost:8080/"
        },
        "id": "jfLGGyfB_fGb",
        "outputId": "fe9e6a5b-bd61-4093-b51f-64e1177886c4"
      },
      "source": [
        "# concatenating tuples\r\n",
        "t =(1, 2,3)+ (4, 5,6)\r\n",
        "print(t)"
      ],
      "execution_count": 22,
      "outputs": [
        {
          "output_type": "stream",
          "text": [
            "(1, 2, 3, 4, 5, 6)\n"
          ],
          "name": "stdout"
        }
      ]
    },
    {
      "cell_type": "code",
      "metadata": {
        "colab": {
          "base_uri": "https://localhost:8080/"
        },
        "id": "Ed2FeImn_ol6",
        "outputId": "36cfd924-42b9-4edf-93ee-e623a9eb63c5"
      },
      "source": [
        "# repeat the elements in a tuple for a given number of times using the * operator\r\n",
        "t=(('satish',)*4)\r\n",
        "print(t)"
      ],
      "execution_count": 23,
      "outputs": [
        {
          "output_type": "stream",
          "text": [
            "('satish', 'satish', 'satish', 'satish')\n"
          ],
          "name": "stdout"
        }
      ]
    },
    {
      "cell_type": "markdown",
      "metadata": {
        "id": "Vm3cF2qkASvr"
      },
      "source": [
        "**Tuple Deletion**\r\n"
      ]
    },
    {
      "cell_type": "code",
      "metadata": {
        "id": "xdVPxFx6AWAF"
      },
      "source": [
        "# we cannot change the elements in a tuple\r\n",
        "# That also means we cannot delete or remove items from a tuple\r\n",
        "\r\n",
        "# delete entire tuple using del keyword\r\n",
        "t =(1, 2,3,4,5,6)\r\n",
        "\r\n",
        "# delete entire tuple\r\n",
        "del t\r\n",
        "\r\n"
      ],
      "execution_count": 24,
      "outputs": []
    },
    {
      "cell_type": "markdown",
      "metadata": {
        "id": "gbk0Y8VtBY7l"
      },
      "source": [
        "**Tuple count**"
      ]
    },
    {
      "cell_type": "code",
      "metadata": {
        "colab": {
          "base_uri": "https://localhost:8080/"
        },
        "id": "z7JahUGiBVjz",
        "outputId": "6cae9e44-f491-47c2-e23c-162e6a2fdc59"
      },
      "source": [
        "t=(1,2,3,1,3,3,4,1)\r\n",
        "\r\n",
        "# get the frequency of particular element appears in a tuple\r\n",
        "\r\n",
        "t.count(1)"
      ],
      "execution_count": 27,
      "outputs": [
        {
          "output_type": "execute_result",
          "data": {
            "text/plain": [
              "3"
            ]
          },
          "metadata": {
            "tags": []
          },
          "execution_count": 27
        }
      ]
    },
    {
      "cell_type": "markdown",
      "metadata": {
        "id": "Ri6pRnabB0At"
      },
      "source": [
        "**Tuple Index**"
      ]
    },
    {
      "cell_type": "code",
      "metadata": {
        "colab": {
          "base_uri": "https://localhost:8080/"
        },
        "id": "YElI13WvByUD",
        "outputId": "09996bf9-8399-4437-a10f-64d512851ff1"
      },
      "source": [
        "t= (1,2,3,1,3,3,4,1)\r\n",
        "print(t.index(3))  # return index of the first element is  equal to 3 \r\n",
        "\r\n",
        "# print index of the 1\r\n"
      ],
      "execution_count": 28,
      "outputs": [
        {
          "output_type": "stream",
          "text": [
            "2\n"
          ],
          "name": "stdout"
        }
      ]
    },
    {
      "cell_type": "markdown",
      "metadata": {
        "id": "zHMg8LiACK3S"
      },
      "source": [
        "**Tuple Membership**"
      ]
    },
    {
      "cell_type": "code",
      "metadata": {
        "colab": {
          "base_uri": "https://localhost:8080/"
        },
        "id": "4dMDVkCLCIF5",
        "outputId": "1da95dc0-dc28-4609-e888-aaaa29c5056d"
      },
      "source": [
        "# test if an item exists in a tuple or not , using the keyword in .\r\n",
        "t=(1, 2,3,4,5,6)\r\n",
        "print(1 in t)"
      ],
      "execution_count": 29,
      "outputs": [
        {
          "output_type": "stream",
          "text": [
            "True\n"
          ],
          "name": "stdout"
        }
      ]
    },
    {
      "cell_type": "code",
      "metadata": {
        "colab": {
          "base_uri": "https://localhost:8080/"
        },
        "id": "nF_02mdxClxa",
        "outputId": "58c08ac2-f8ad-49eb-c90b-da521d2ebaea"
      },
      "source": [
        "print(7 in t)"
      ],
      "execution_count": 30,
      "outputs": [
        {
          "output_type": "stream",
          "text": [
            "False\n"
          ],
          "name": "stdout"
        }
      ]
    },
    {
      "cell_type": "markdown",
      "metadata": {
        "id": "Icv8Kv6NCpC4"
      },
      "source": [
        "**Built in Functions**\r\n",
        "\r\n",
        "**Tuple length**"
      ]
    },
    {
      "cell_type": "code",
      "metadata": {
        "colab": {
          "base_uri": "https://localhost:8080/"
        },
        "id": "0gDj2TohCnaK",
        "outputId": "80ae7f53-6393-4949-c4e0-c8473104aab7"
      },
      "source": [
        "t =(1, 2,3,4,5,6)\r\n",
        "print(len(t))"
      ],
      "execution_count": 31,
      "outputs": [
        {
          "output_type": "stream",
          "text": [
            "6\n"
          ],
          "name": "stdout"
        }
      ]
    },
    {
      "cell_type": "markdown",
      "metadata": {
        "id": "pG7Ohdv0DBTC"
      },
      "source": [
        "**Tuple sort**\r\n",
        "\r\n"
      ]
    },
    {
      "cell_type": "code",
      "metadata": {
        "colab": {
          "base_uri": "https://localhost:8080/"
        },
        "id": "MHFht2KjC9yx",
        "outputId": "6887c4dc-fcff-4831-b290-cde118f1ad54"
      },
      "source": [
        "t= (4, 5, 1,2, 3)\r\n",
        "\r\n",
        "new_t =sorted(t)\r\n",
        "print(new_t)  # Take elements in the tuple and return a new sorted list \r\n",
        "              # (does not sort the tuple itself)."
      ],
      "execution_count": 33,
      "outputs": [
        {
          "output_type": "stream",
          "text": [
            "[1, 2, 3, 4, 5]\n"
          ],
          "name": "stdout"
        }
      ]
    },
    {
      "cell_type": "code",
      "metadata": {
        "colab": {
          "base_uri": "https://localhost:8080/"
        },
        "id": "nPTREr_zDpcB",
        "outputId": "55b69ef4-994b-4085-f3fa-a24e4454323b"
      },
      "source": [
        "# get the largest element in a tuple\r\n",
        "t =(2, 1,5,3, 7, 9)\r\n",
        "print(max(t))"
      ],
      "execution_count": 34,
      "outputs": [
        {
          "output_type": "stream",
          "text": [
            "9\n"
          ],
          "name": "stdout"
        }
      ]
    },
    {
      "cell_type": "code",
      "metadata": {
        "colab": {
          "base_uri": "https://localhost:8080/"
        },
        "id": "LY2nFxv-D28o",
        "outputId": "13b35830-35d3-44b4-9c94-4a2b6150b77a"
      },
      "source": [
        "# get the smallest element in a tuple \r\n",
        "print(min(t))"
      ],
      "execution_count": 35,
      "outputs": [
        {
          "output_type": "stream",
          "text": [
            "1\n"
          ],
          "name": "stdout"
        }
      ]
    },
    {
      "cell_type": "code",
      "metadata": {
        "colab": {
          "base_uri": "https://localhost:8080/"
        },
        "id": "VxvRnlUkD_j2",
        "outputId": "84fda9ca-1e60-4ca1-e2c8-d320434fad68"
      },
      "source": [
        "# get sum of elements in the tuple\r\n",
        "print(sum(t))"
      ],
      "execution_count": 36,
      "outputs": [
        {
          "output_type": "stream",
          "text": [
            "27\n"
          ],
          "name": "stdout"
        }
      ]
    },
    {
      "cell_type": "code",
      "metadata": {
        "id": "Yfdh4X0CEEGa"
      },
      "source": [
        ""
      ],
      "execution_count": null,
      "outputs": []
    }
  ]
}