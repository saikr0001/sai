{
  "nbformat": 4,
  "nbformat_minor": 0,
  "metadata": {
    "colab": {
      "name": "1.Lists",
      "provenance": [],
      "collapsed_sections": [],
      "authorship_tag": "ABX9TyMw0TEp8AFnPUtzhg+7snex",
      "include_colab_link": true
    },
    "kernelspec": {
      "name": "python3",
      "display_name": "Python 3"
    }
  },
  "cells": [
    {
      "cell_type": "markdown",
      "metadata": {
        "id": "view-in-github",
        "colab_type": "text"
      },
      "source": [
        "<a href=\"https://colab.research.google.com/github/saikr0001/sai/blob/master/1.Lists.ipynb\" target=\"_parent\"><img src=\"https://colab.research.google.com/assets/colab-badge.svg\" alt=\"Open In Colab\"/></a>"
      ]
    },
    {
      "cell_type": "code",
      "metadata": {
        "id": "QC9ngsp0C1Eg"
      },
      "source": [
        "# Data structure\r\n"
      ],
      "execution_count": null,
      "outputs": []
    },
    {
      "cell_type": "markdown",
      "metadata": {
        "id": "v-UBwkXuQuMm"
      },
      "source": [
        "A data structure is a collection of data elements( such as numbers or characters -- or even other data structures) that is structured in some way ,\r\n",
        "for example , by numbering the elements. The most basic data structure in python is the 'sequence' .\r\n",
        "\r\n",
        "--> List is one of the sequence Data structure \r\n",
        "--> Lists are collection of items (strings , integers or even other lists)\r\n",
        "--> lists are enclosed in[]\r\n",
        "--> Each item in the list has an assigned index value\r\n",
        "--> Each item in a list is seperated by comma\r\n",
        "--> Lists are mutable , which means they can be changed \r\n"
      ]
    },
    {
      "cell_type": "code",
      "metadata": {
        "colab": {
          "base_uri": "https://localhost:8080/"
        },
        "id": "XuXFlekGQ3sg",
        "outputId": "8fcdd110-f890-4f04-c393-33ee0d2137c3"
      },
      "source": [
        "# List creation\r\n",
        "emptyList =[]\r\n",
        "lst =['one', 'two', 'three','four']  # list of strings\r\n",
        "\r\n",
        "lst2= [1,2,3,4]  # list of integers\r\n",
        "\r\n",
        "lst3 = [[1,2], [3, 4]]  # list of lists\r\n",
        "\r\n",
        "lst4 = [1, 'ramu', 24, 1.24]   # list of different datatypes\r\n",
        "print(lst4)"
      ],
      "execution_count": null,
      "outputs": [
        {
          "output_type": "stream",
          "text": [
            "[1, 'ramu', 24, 1.24]\n"
          ],
          "name": "stdout"
        }
      ]
    },
    {
      "cell_type": "code",
      "metadata": {
        "colab": {
          "base_uri": "https://localhost:8080/"
        },
        "id": "2VfTc4KxSWWN",
        "outputId": "ff9ba1ed-3726-4d03-e8ec-72c48f2710c1"
      },
      "source": [
        "#List Length by using  'len' function\r\n",
        "lst =[ 'one','two','three', 'four']\r\n",
        "# find length of a list\r\n",
        "print(len(lst))"
      ],
      "execution_count": null,
      "outputs": [
        {
          "output_type": "stream",
          "text": [
            "4\n"
          ],
          "name": "stdout"
        }
      ]
    },
    {
      "cell_type": "code",
      "metadata": {
        "colab": {
          "base_uri": "https://localhost:8080/"
        },
        "id": "uc_b-tn-25oQ",
        "outputId": "d6a8f2b1-39cb-4d8f-d236-b7b9d549426b"
      },
      "source": [
        "#LIST APPEND\r\n",
        "\r\n",
        "\r\n",
        "lst =['one', 'two', 'three', 'four']\r\n",
        "lst.append('five')   # append will add the item at the end\r\n",
        "print(lst)"
      ],
      "execution_count": null,
      "outputs": [
        {
          "output_type": "stream",
          "text": [
            "['one', 'two', 'three', 'four', 'five']\n"
          ],
          "name": "stdout"
        }
      ]
    },
    {
      "cell_type": "code",
      "metadata": {
        "colab": {
          "base_uri": "https://localhost:8080/"
        },
        "id": "sjTs2YoUwj3P",
        "outputId": "9e40a547-1215-48c2-ab69-a83b03a1b86b"
      },
      "source": [
        "# List Insert\r\n",
        "\r\n",
        "# Syntax: lst.insert(x,y)\r\n",
        "lst =['one', 'two', 'four']\r\n",
        "lst.insert(2, \"three\")   # will add element y at location x \r\n",
        "lst"
      ],
      "execution_count": null,
      "outputs": [
        {
          "output_type": "execute_result",
          "data": {
            "text/plain": [
              "['one', 'two', 'three', 'four']"
            ]
          },
          "metadata": {
            "tags": []
          },
          "execution_count": 3
        }
      ]
    },
    {
      "cell_type": "code",
      "metadata": {
        "colab": {
          "base_uri": "https://localhost:8080/"
        },
        "id": "Feva-AFlxAbW",
        "outputId": "9a3ac4bb-1142-4ae6-bd04-0ec61ffa307c"
      },
      "source": [
        "# LIST REMOVE\r\n",
        "# sytax : lst.remove(x)\r\n",
        "\r\n",
        "lst =['one','two','three','four','two']\r\n",
        "\r\n",
        "lst.remove('two')  # it will remove first occurence of 'two' in a given list\r\n",
        "\r\n",
        "print(lst)\r\n",
        "\r\n"
      ],
      "execution_count": null,
      "outputs": [
        {
          "output_type": "stream",
          "text": [
            "['one', 'three', 'four', 'two']\n"
          ],
          "name": "stdout"
        }
      ]
    },
    {
      "cell_type": "code",
      "metadata": {
        "colab": {
          "base_uri": "https://localhost:8080/"
        },
        "id": "vLTMeIMf34Ab",
        "outputId": "0fff9ce7-3336-4d16-d148-a6e156ae2f78"
      },
      "source": [
        "#LIST APPEND & EXTEND\r\n",
        "lst =['one', 'two','three', 'four']\r\n",
        "lst2 =['five','six']\r\n",
        "\r\n",
        "# append\r\n",
        "\r\n",
        "lst.append(lst2)\r\n",
        "print(lst)"
      ],
      "execution_count": null,
      "outputs": [
        {
          "output_type": "stream",
          "text": [
            "['one', 'two', 'three', 'four', ['five', 'six']]\n"
          ],
          "name": "stdout"
        }
      ]
    },
    {
      "cell_type": "code",
      "metadata": {
        "colab": {
          "base_uri": "https://localhost:8080/"
        },
        "id": "NUSybxZO4ilc",
        "outputId": "30b0171c-2810-4888-d635-86d97a9338cd"
      },
      "source": [
        "lst =['one','two', 'three', 'four']\r\n",
        "lst2 = ['five', 'six']\r\n",
        "# extend will join the lsit with list1\r\n",
        "lst.extend(lst2)\r\n",
        "\r\n",
        "lst "
      ],
      "execution_count": null,
      "outputs": [
        {
          "output_type": "execute_result",
          "data": {
            "text/plain": [
              "['one', 'two', 'three', 'four', 'five', 'six']"
            ]
          },
          "metadata": {
            "tags": []
          },
          "execution_count": 9
        }
      ]
    },
    {
      "cell_type": "code",
      "metadata": {
        "colab": {
          "base_uri": "https://localhost:8080/"
        },
        "id": "MnBwLYZb_yQa",
        "outputId": "97e8206d-c827-4a63-cbd9-2c45f7dc89f4"
      },
      "source": [
        "#LIST Delete\r\n",
        "\r\n",
        "#del to remove item based on index position \r\n",
        "\r\n",
        "lst= ['one','two','three','four']\r\n",
        "\r\n",
        "del lst[1]        # delete will just remove the item from the list but pop() will return the removed item from the list\r\n",
        "print(lst)\r\n",
        "\r\n",
        "#or we can use pop() method \r\n",
        "\r\n",
        "a= lst.pop(1)     # u can take out an item from list based on index\r\n",
        "\r\n",
        "print(a)\r\n",
        "print(lst)"
      ],
      "execution_count": null,
      "outputs": [
        {
          "output_type": "stream",
          "text": [
            "['one', 'three', 'four']\n",
            "three\n",
            "['one', 'four']\n"
          ],
          "name": "stdout"
        }
      ]
    },
    {
      "cell_type": "code",
      "metadata": {
        "colab": {
          "base_uri": "https://localhost:8080/"
        },
        "id": "JqDy2K76CHFL",
        "outputId": "da4a955e-edc3-4a67-da9d-9622ef3458c5"
      },
      "source": [
        "lst =['one', 'two','three','four']\r\n",
        "# remove an item  from list based on \"item\" without using any index\r\n",
        "lst.remove('three')\r\n",
        "print(lst)"
      ],
      "execution_count": null,
      "outputs": [
        {
          "output_type": "stream",
          "text": [
            "['one', 'two', 'four']\n"
          ],
          "name": "stdout"
        }
      ]
    },
    {
      "cell_type": "code",
      "metadata": {
        "colab": {
          "base_uri": "https://localhost:8080/"
        },
        "id": "VjJ-wfuPx_z3",
        "outputId": "92ccced3-353a-4f4d-92a8-6a80d07db579"
      },
      "source": [
        "#List realted Keywords in Python                    # Keywords are reserved words in python\r\n",
        "# Keyword 'in' is used to test if an item is in a list\r\n",
        "lst =['one', 'two','three','four']\r\n",
        "\r\n",
        "if 'two' in lst:\r\n",
        "  print(\"HI\")\r\n",
        "\r\n",
        "#Keyword 'not' can combined with 'in'\r\n",
        "\r\n",
        "if 'six' not in lst:\r\n",
        "  print('ML')\r\n"
      ],
      "execution_count": null,
      "outputs": [
        {
          "output_type": "stream",
          "text": [
            "HI\n",
            "ML\n"
          ],
          "name": "stdout"
        }
      ]
    },
    {
      "cell_type": "code",
      "metadata": {
        "colab": {
          "base_uri": "https://localhost:8080/"
        },
        "id": "mWWFl5_8yu49",
        "outputId": "8c0e5d4b-9307-4ea6-8482-2c2a140f8d92"
      },
      "source": [
        "#List Reverse\r\n",
        "# reverse is  revereses the entire list\r\n",
        "\r\n",
        "lst= ['one', 'two','three','four']\r\n",
        "lst.reverse()\r\n",
        "\r\n",
        "print(lst)\r\n"
      ],
      "execution_count": null,
      "outputs": [
        {
          "output_type": "stream",
          "text": [
            "['four', 'three', 'two', 'one']\n"
          ],
          "name": "stdout"
        }
      ]
    },
    {
      "cell_type": "code",
      "metadata": {
        "id": "vdhC-70Xzckv"
      },
      "source": [
        "#List Sorting\r\n"
      ],
      "execution_count": null,
      "outputs": []
    },
    {
      "cell_type": "markdown",
      "metadata": {
        "id": "wesocQJZ0dxs"
      },
      "source": [
        "\r\n",
        "\r\n",
        "*   The easiest way to sort a List is with the sorted(list) function.\r\n",
        "*  That takes a list and returns a new list with those elements in sorted order\r\n",
        "*   The original list is not changed \r\n",
        "*. The sorted () optional argument reverse =True , e,g sorted(list, reverse =True), makes it sort backwards.\r\n",
        "\r\n",
        "\r\n"
      ]
    },
    {
      "cell_type": "code",
      "metadata": {
        "colab": {
          "base_uri": "https://localhost:8080/"
        },
        "id": "ypJ4bQMH09At",
        "outputId": "7d887d44-73f2-4a94-d960-13a542ee1ae0"
      },
      "source": [
        "# create a list with numbers\r\n",
        "\r\n",
        "numbers = [3,1,6,2,8]\r\n",
        "sorted_lst = sorted(numbers)\r\n",
        "print(\"Sorted list:\" , sorted_lst)\r\n",
        "\r\n",
        "#original list remain unchanged \r\n",
        "print('original list: ', numbers)"
      ],
      "execution_count": null,
      "outputs": [
        {
          "output_type": "stream",
          "text": [
            "Sorted list: [1, 2, 3, 6, 8]\n",
            "original list:  [3, 1, 6, 2, 8]\n"
          ],
          "name": "stdout"
        }
      ]
    },
    {
      "cell_type": "code",
      "metadata": {
        "colab": {
          "base_uri": "https://localhost:8080/"
        },
        "id": "Y_KVH2Yd1vxU",
        "outputId": "af4cd6b4-fb27-42a2-8484-8703ab83bdb9"
      },
      "source": [
        "# print a list in reverse sorted order \r\n",
        "print(\"Reverse sorted list :\" , sorted (numbers, reverse= True))\r\n",
        "\r\n",
        "#original list remain unchanged\r\n",
        "print(\"original list:\", numbers)"
      ],
      "execution_count": null,
      "outputs": [
        {
          "output_type": "stream",
          "text": [
            "Reverse sorted list : [8, 6, 3, 2, 1]\n",
            "original list: [3, 1, 6, 2, 8]\n"
          ],
          "name": "stdout"
        }
      ]
    },
    {
      "cell_type": "code",
      "metadata": {
        "colab": {
          "base_uri": "https://localhost:8080/"
        },
        "id": "aUp4l_U42vyU",
        "outputId": "04036143-1e53-4679-c841-7f044f6a35a7"
      },
      "source": [
        "lst =[1,20,5, 5,4.2]\r\n",
        "\r\n",
        "#sort the list and stored in itself \r\n",
        "lst.sort()\r\n",
        "lst    # it is sorting in an increasing/ ascending order"
      ],
      "execution_count": null,
      "outputs": [
        {
          "output_type": "execute_result",
          "data": {
            "text/plain": [
              "[1, 4.2, 5, 5, 20]"
            ]
          },
          "metadata": {
            "tags": []
          },
          "execution_count": 7
        }
      ]
    },
    {
      "cell_type": "code",
      "metadata": {
        "colab": {
          "base_uri": "https://localhost:8080/",
          "height": 180
        },
        "id": "aznycRVi3A4b",
        "outputId": "5beebbe3-16ea-4200-fa6d-35f473c14cfe"
      },
      "source": [
        "lst =[1,20, 'b', 5,'a' ]  # it gives 'type error' because it sorting by comparing with '<' or '>' . so it cant sort a  number and a string but it can sort a integer and floating numbers \r\n",
        "print(lst.sort())  # sort list with element of different datatypes \r\n"
      ],
      "execution_count": null,
      "outputs": [
        {
          "output_type": "error",
          "ename": "TypeError",
          "evalue": "ignored",
          "traceback": [
            "\u001b[0;31m---------------------------------------------------------------------------\u001b[0m",
            "\u001b[0;31mTypeError\u001b[0m                                 Traceback (most recent call last)",
            "\u001b[0;32m<ipython-input-8-2293f1894c41>\u001b[0m in \u001b[0;36m<module>\u001b[0;34m()\u001b[0m\n\u001b[1;32m      1\u001b[0m \u001b[0mlst\u001b[0m \u001b[0;34m=\u001b[0m\u001b[0;34m[\u001b[0m\u001b[0;36m1\u001b[0m\u001b[0;34m,\u001b[0m\u001b[0;36m20\u001b[0m\u001b[0;34m,\u001b[0m \u001b[0;34m'b'\u001b[0m\u001b[0;34m,\u001b[0m \u001b[0;36m5\u001b[0m\u001b[0;34m,\u001b[0m\u001b[0;34m'a'\u001b[0m \u001b[0;34m]\u001b[0m\u001b[0;34m\u001b[0m\u001b[0;34m\u001b[0m\u001b[0m\n\u001b[0;32m----> 2\u001b[0;31m \u001b[0mprint\u001b[0m\u001b[0;34m(\u001b[0m\u001b[0mlst\u001b[0m\u001b[0;34m.\u001b[0m\u001b[0msort\u001b[0m\u001b[0;34m(\u001b[0m\u001b[0;34m)\u001b[0m\u001b[0;34m)\u001b[0m  \u001b[0;31m# sort list with element of different datatypes\u001b[0m\u001b[0;34m\u001b[0m\u001b[0;34m\u001b[0m\u001b[0m\n\u001b[0m",
            "\u001b[0;31mTypeError\u001b[0m: '<' not supported between instances of 'str' and 'int'"
          ]
        }
      ]
    },
    {
      "cell_type": "code",
      "metadata": {
        "colab": {
          "base_uri": "https://localhost:8080/"
        },
        "id": "TgP2wzUP3UCo",
        "outputId": "e1a76a7c-d9e9-40c9-e31e-95389b90f1b7"
      },
      "source": [
        "# List having multiple References\r\n",
        "lst =[1,2,3,4,5]        \r\n",
        "abc= lst                    # Both lst and abc are pointing to same memory location ...any edits you do with abc..it will be reflected in lst\r\n",
        "abc.append(6)\r\n",
        "\r\n",
        "#print original list\r\n",
        "\r\n",
        "print(\"original list:\" , lst)\r\n"
      ],
      "execution_count": null,
      "outputs": [
        {
          "output_type": "stream",
          "text": [
            "original list: [1, 2, 3, 4, 5, 6]\n"
          ],
          "name": "stdout"
        }
      ]
    },
    {
      "cell_type": "code",
      "metadata": {
        "colab": {
          "base_uri": "https://localhost:8080/"
        },
        "id": "sAtsXE1Q4S8B",
        "outputId": "8d26d807-1cea-42e4-9818-d523c151e710"
      },
      "source": [
        "# String split to create a list\r\n",
        "# let's take a string\r\n",
        "\r\n",
        "s=\"one,two,three,four, five\"\r\n",
        "slst= s.split(',')\r\n",
        "print(slst)\r\n"
      ],
      "execution_count": null,
      "outputs": [
        {
          "output_type": "stream",
          "text": [
            "['one', 'two', 'three', 'four', ' five']\n"
          ],
          "name": "stdout"
        }
      ]
    },
    {
      "cell_type": "code",
      "metadata": {
        "colab": {
          "base_uri": "https://localhost:8080/"
        },
        "id": "Pk-0Eil6GPeE",
        "outputId": "6fcbee4f-66e5-4d28-e4f7-42a5fabc13f9"
      },
      "source": [
        "s= \"this is  applied ML course\"\r\n",
        "\r\n",
        "split_lst =s.split()    # default split is white-character :space or tab\r\n",
        "print(split_lst)"
      ],
      "execution_count": null,
      "outputs": [
        {
          "output_type": "stream",
          "text": [
            "['this', 'is', 'applied', 'ML', 'course']\n"
          ],
          "name": "stdout"
        }
      ]
    },
    {
      "cell_type": "code",
      "metadata": {
        "id": "KxW1_GKGIaqG"
      },
      "source": [
        "#List Indexing"
      ],
      "execution_count": null,
      "outputs": []
    },
    {
      "cell_type": "markdown",
      "metadata": {
        "id": "qlllp9pkImY0"
      },
      "source": [
        "* Each item in the list has an assigned index value starting from 0\r\n",
        "* Accessing elements in a list is called indexing\r\n"
      ]
    },
    {
      "cell_type": "code",
      "metadata": {
        "colab": {
          "base_uri": "https://localhost:8080/"
        },
        "id": "pW7B2wvmIxTN",
        "outputId": "49527141-8953-4d07-ea32-293d79b65ed3"
      },
      "source": [
        "lst =[1,2,3,4]\r\n",
        "print(lst[1])   # print second element\r\n",
        "# print last element using negative index\r\n",
        "print(lst[-1])"
      ],
      "execution_count": null,
      "outputs": [
        {
          "output_type": "stream",
          "text": [
            "2\n",
            "4\n"
          ],
          "name": "stdout"
        }
      ]
    },
    {
      "cell_type": "code",
      "metadata": {
        "id": "AW8lwY8iJCel"
      },
      "source": [
        "# List Slicing\r\n"
      ],
      "execution_count": null,
      "outputs": []
    },
    {
      "cell_type": "markdown",
      "metadata": {
        "id": "zq04X-gaJH7o"
      },
      "source": [
        "* Accessing parts of segments is called slicing.\r\n",
        "* The key point to remember is that the :end value represents the first value that is not in the selected slice."
      ]
    },
    {
      "cell_type": "code",
      "metadata": {
        "id": "M6hsWzeHJFiX",
        "colab": {
          "base_uri": "https://localhost:8080/"
        },
        "outputId": "25e9b78b-2c98-4007-9324-7036513fdd3e"
      },
      "source": [
        "numbers = [10,20, 30,40 ,50 ,60 ,70 ,80]\r\n",
        "# print all numbers\r\n",
        "print(numbers[:])\r\n",
        "\r\n",
        "# print from index 0 to index 3\r\n",
        "print(numbers[0:4])"
      ],
      "execution_count": 3,
      "outputs": [
        {
          "output_type": "stream",
          "text": [
            "[10, 20, 30, 40, 50, 60, 70, 80]\n",
            "[10, 20, 30, 40]\n"
          ],
          "name": "stdout"
        }
      ]
    },
    {
      "cell_type": "code",
      "metadata": {
        "colab": {
          "base_uri": "https://localhost:8080/"
        },
        "id": "UvJqTIuYyYXC",
        "outputId": "6c1418e8-2b9d-4ccb-cc78-a38dd709577a"
      },
      "source": [
        "print(numbers)\r\n",
        "# print alternate elements in a list\r\n",
        "print(numbers[::2])        # number[ start index : end index :step size]  <-- syntax\r\n",
        "\r\n",
        "# print elements start from 0 through rest of the list\r\n",
        "print(numbers[2::2])"
      ],
      "execution_count": 7,
      "outputs": [
        {
          "output_type": "stream",
          "text": [
            "[10, 20, 30, 40, 50, 60, 70, 80]\n",
            "[10, 30, 50, 70]\n",
            "[30, 50, 70]\n"
          ],
          "name": "stdout"
        }
      ]
    },
    {
      "cell_type": "code",
      "metadata": {
        "colab": {
          "base_uri": "https://localhost:8080/"
        },
        "id": "c-OODs1Gy7k9",
        "outputId": "391da8ca-0640-4c29-9020-ca462b825c80"
      },
      "source": [
        "#List extend using \"+\"\r\n",
        "\r\n",
        "lst1= [1,2,3,4]\r\n",
        "lst2= ['varma','naveen', 'murali','brahma']\r\n",
        "new_lst =lst1+lst2\r\n",
        "print(new_lst)"
      ],
      "execution_count": 8,
      "outputs": [
        {
          "output_type": "stream",
          "text": [
            "[1, 2, 3, 4, 'varma', 'naveen', 'murali', 'brahma']\n"
          ],
          "name": "stdout"
        }
      ]
    },
    {
      "cell_type": "code",
      "metadata": {
        "colab": {
          "base_uri": "https://localhost:8080/"
        },
        "id": "78I28lS71H0I",
        "outputId": "d347c00d-6b0b-43a0-d5e6-089c202372e0"
      },
      "source": [
        "# List count \r\n",
        "numbers = [1,2,3, 1,3,4,2, 5]\r\n",
        "\r\n",
        "\r\n",
        "# frequency of 1 in a list\r\n",
        "print(numbers.count(1))    # How many times an element occurs in a list\r\n",
        "\r\n"
      ],
      "execution_count": 1,
      "outputs": [
        {
          "output_type": "stream",
          "text": [
            "2\n"
          ],
          "name": "stdout"
        }
      ]
    },
    {
      "cell_type": "code",
      "metadata": {
        "colab": {
          "base_uri": "https://localhost:8080/"
        },
        "id": "H46jIoUPwfPh",
        "outputId": "08b899f6-f508-4641-d555-d90691311310"
      },
      "source": [
        "# List looping\r\n",
        "# loop through a list\r\n",
        "lst =['one ', 'two ', 'three', 'four']\r\n",
        "\r\n",
        "for ele in lst:              #looping\r\n",
        "  print(ele)"
      ],
      "execution_count": 2,
      "outputs": [
        {
          "output_type": "stream",
          "text": [
            "one \n",
            "two \n",
            "three\n",
            "four\n"
          ],
          "name": "stdout"
        }
      ]
    },
    {
      "cell_type": "code",
      "metadata": {
        "id": "aimXdi4Ew-rP"
      },
      "source": [
        "# list comprehensions"
      ],
      "execution_count": null,
      "outputs": []
    },
    {
      "cell_type": "markdown",
      "metadata": {
        "id": "a9Byq2Q1xJ3E"
      },
      "source": [
        "* List comprehensions provide a concise way to create lists\r\n",
        "* Common applications are to make new lists where each element is the result of some operations applied to each number of another sequence or iterable, or to create a subsequence of those elements that satisfy a certain condition \r\n",
        "\r\n"
      ]
    },
    {
      "cell_type": "code",
      "metadata": {
        "colab": {
          "base_uri": "https://localhost:8080/"
        },
        "id": "GqABeRZdxPiH",
        "outputId": "ced07246-0245-40f4-cf6a-26288e1fe2b0"
      },
      "source": [
        "# without list comprehension \r\n",
        "squares =[]\r\n",
        "for i in range(10):\r\n",
        "  squares.append(i**2)     # list append  to create squares of numbers              i^2    for i :0 to 9 ( normal words)\r\n",
        "print(squares)"
      ],
      "execution_count": 3,
      "outputs": [
        {
          "output_type": "stream",
          "text": [
            "[0, 1, 4, 9, 16, 25, 36, 49, 64, 81]\n"
          ],
          "name": "stdout"
        }
      ]
    },
    {
      "cell_type": "code",
      "metadata": {
        "colab": {
          "base_uri": "https://localhost:8080/"
        },
        "id": "A1tEYJ1Oyi4m",
        "outputId": "3730839e-7dfb-4ad0-8655-1864f700db7c"
      },
      "source": [
        "# using list comprehension\r\n",
        "squares =[i**2 for i in range(10)]\r\n",
        "print(squares)"
      ],
      "execution_count": 4,
      "outputs": [
        {
          "output_type": "stream",
          "text": [
            "[0, 1, 4, 9, 16, 25, 36, 49, 64, 81]\n"
          ],
          "name": "stdout"
        }
      ]
    },
    {
      "cell_type": "code",
      "metadata": {
        "colab": {
          "base_uri": "https://localhost:8080/"
        },
        "id": "qJj9mAq6yw1-",
        "outputId": "b1f221ac-5634-47be-9c06-6fcaa21ae48d"
      },
      "source": [
        "# example\r\n",
        "lst =[-10, -20 ,10, 20, 50]\r\n",
        "# create a new list values doubled \r\n",
        "new_lst =[i*2 for i in lst]\r\n",
        "print(new_lst)\r\n",
        "\r\n",
        "# filter the list to exclude negative numbers\r\n",
        "\r\n",
        "new_lst =[i for i in lst if i >= 0]\r\n",
        "print(new_lst)\r\n",
        "\r\n",
        "#create a list of tuples like (number, square_of_number)\r\n",
        "new_lst =[(i, i**2) for i in range(10)]\r\n",
        "print(new_lst)"
      ],
      "execution_count": 5,
      "outputs": [
        {
          "output_type": "stream",
          "text": [
            "[-20, -40, 20, 40, 100]\n",
            "[10, 20, 50]\n",
            "[(0, 0), (1, 1), (2, 4), (3, 9), (4, 16), (5, 25), (6, 36), (7, 49), (8, 64), (9, 81)]\n"
          ],
          "name": "stdout"
        }
      ]
    },
    {
      "cell_type": "code",
      "metadata": {
        "colab": {
          "base_uri": "https://localhost:8080/"
        },
        "id": "s0q_bU_q0d1J",
        "outputId": "5b7afac1-d12b-424a-ee56-80017008e04a"
      },
      "source": [
        "# Nested List Comprehensions\r\n",
        "# let's suppose we have a matrix\r\n",
        "matrix =[\r\n",
        "         [1, 2,3, 4],\r\n",
        "         [5,6, 7,8 ],\r\n",
        "         [9, 10,11, 12]\r\n",
        "]\r\n",
        "# transpose of a matrix without list comprehension \r\n",
        "\r\n",
        "transposed =[]\r\n",
        "\r\n",
        "for i in range(4):\r\n",
        "  lst =[]\r\n",
        "  for row in matrix:             # row0[0] ,row1[0], row2[0]...\r\n",
        "      lst.append(row[i])\r\n",
        "  transposed.append(lst)\r\n",
        "\r\n",
        "print(transposed)"
      ],
      "execution_count": 7,
      "outputs": [
        {
          "output_type": "stream",
          "text": [
            "[[1, 5, 9], [2, 6, 10], [3, 7, 11], [4, 8, 12]]\n"
          ],
          "name": "stdout"
        }
      ]
    },
    {
      "cell_type": "code",
      "metadata": {
        "colab": {
          "base_uri": "https://localhost:8080/"
        },
        "id": "8K0bDOCO1I2C",
        "outputId": "cb3ac2ee-f11e-4840-de43-c36ae600b23c"
      },
      "source": [
        "# with list comprehension\r\n",
        "\r\n",
        "transposed =[[row[i] for row in matrix ] for i in range(4)]\r\n",
        "print(transposed)"
      ],
      "execution_count": 8,
      "outputs": [
        {
          "output_type": "stream",
          "text": [
            "[[1, 5, 9], [2, 6, 10], [3, 7, 11], [4, 8, 12]]\n"
          ],
          "name": "stdout"
        }
      ]
    },
    {
      "cell_type": "code",
      "metadata": {
        "id": "vcVntWvs3yqW"
      },
      "source": [
        ""
      ],
      "execution_count": null,
      "outputs": []
    }
  ]
}